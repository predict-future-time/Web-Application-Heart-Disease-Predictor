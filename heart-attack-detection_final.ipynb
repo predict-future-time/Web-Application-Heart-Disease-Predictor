{
 "cells": [
  {
   "cell_type": "markdown",
   "id": "156957e7",
   "metadata": {
    "papermill": {
     "duration": 0.028062,
     "end_time": "2024-12-11T17:45:53.503452",
     "exception": false,
     "start_time": "2024-12-11T17:45:53.475390",
     "status": "completed"
    },
    "tags": []
   },
   "source": [
    "<div style=\"text-align: center; background: #22177A; font-family: 'Verdana', sans-serif; color: white; padding: 15px; font-size: 28px; font-weight: bold; line-height: 1.2; border-radius: 10px; margin-bottom: 20px; box-shadow: 0px 4px 8px rgba(0, 0, 0, 0.15);\"> Introduction  To Heart Disease</div>\n"
   ]
  },
  {
   "cell_type": "markdown",
   "id": "c0fd2c91",
   "metadata": {
    "papermill": {
     "duration": 0.022791,
     "end_time": "2024-12-11T17:45:53.549541",
     "exception": false,
     "start_time": "2024-12-11T17:45:53.526750",
     "status": "completed"
    },
    "tags": []
   },
   "source": [
    "<span style=\"font-size: 14px; font-family: Verdana; border: 2px solid #ccc;; padding: 10px; border-radius: 10px; display: inline-block; margin-bottom: 20px;\">\n",
    " In this notebook, we will explore how machine learning can assist in predicting heart disease risk based on patient data. We begin with Exploratory Data Analysis (EDA) to understand the dataset and handle any missing values. We'll perform feature engineering and label encoding to prepare the data for modeling.\n",
    "\n",
    "To ensure the data is suitable for modeling, we will conduct statistical analysis using QQ-plots and Shapiro-Wilk tests for normality. Then, we will train and evaluate several machine learning models including SVM, Decision Trees, Random Forest, and Logistic Regression, using hyperparameter tuning to optimize performance.\n",
    "\n",
    "Finally, we will assess the models using various evaluation metrics like accuracy, precision, recall, and ROC-AUC, aiming to provide an effective tool for early heart disease diagnosis.\n",
    "</span>\n"
   ]
  },
  {
   "cell_type": "markdown",
   "id": "bf205cc1",
   "metadata": {
    "papermill": {
     "duration": 0.022551,
     "end_time": "2024-12-11T17:45:53.595051",
     "exception": false,
     "start_time": "2024-12-11T17:45:53.572500",
     "status": "completed"
    },
    "tags": []
   },
   "source": [
    "<div style=\"text-align: center; background: #22177A; font-family: 'Verdana', sans-serif; color: white; padding: 15px; font-size: 28px; font-weight: bold; line-height: 1.2; border-radius: 10px; margin-bottom: 20px; box-shadow: 0px 4px 8px rgba(0, 0, 0, 0.15);\"> 📝NoteBook Outlines📝</div>\n"
   ]
  },
  {
   "cell_type": "markdown",
   "id": "ec1f8ac1",
   "metadata": {
    "papermill": {
     "duration": 0.022022,
     "end_time": "2024-12-11T17:45:53.639668",
     "exception": false,
     "start_time": "2024-12-11T17:45:53.617646",
     "status": "completed"
    },
    "tags": []
   },
   "source": [
    "<div style=\"font-size: 18px; font-family: Verdana; border: 2px solid #ccc; background-color: #F5F5F5; padding: 10px; border-radius: 10px; margin-bottom: 20px; position: relative;\"><centre>\n",
    "\n",
    "  <!-- Add the image inside the div, aligned to the right-center -->\n",
    " \n",
    "\n",
    "  <span style=\"color: #22177A; font-weight: bold;\">What’s Inside? Let’s Dive In! </span><centre>\n",
    "  <ol>\n",
    "    <li><a href=\"#1\">Data Understanding</a></li>\n",
    "    <li><a href=\"#2\">Data Preprocessing </a></li>\n",
    "    <li><a href=\"#3\">Exploratory Data Analysis </a></li>\n",
    "    <li><a href=\"#4\">Statistical Analysis </a></li>\n",
    "    <li><a href=\"#5\">Feature Engineering  & Scaling</a></li>\n",
    "    <li><a href=\"#6\">Feature Importance Using Inferential Statistics</a></li>\n",
    "    <li><a href=\"#7\">Model Building </a></li>\n",
    "    <li><a href=\"#8\">Hyper  Parameter Tunning</a></li>\n",
    "    <li><a href=\"#9\">Modelling-by-Bagging</a></li>\n",
    "    <li><a href=\"#10\">Model-Evaluation </a></li>\n",
    "    <li><a href=\"#11\">Model-Submission </a></li>\n",
    "    <li><a href=\"#12\">Author's Note </a></li>\n",
    "  </ol>\n",
    "</div>\n"
   ]
  },
  {
   "cell_type": "markdown",
   "id": "8fdd207b",
   "metadata": {
    "papermill": {
     "duration": 0.023046,
     "end_time": "2024-12-11T17:45:53.685767",
     "exception": false,
     "start_time": "2024-12-11T17:45:53.662721",
     "status": "completed"
    },
    "tags": []
   },
   "source": [
    "<a id=\"1\"></a>\n",
    "<div style=\"text-align: center; background: #22177A; font-family: 'Verdana', sans-serif; color: white; padding: 15px; font-size: 28px; font-weight: bold; line-height: 1.2; border-radius: 10px; margin-bottom: 20px; box-shadow: 0px 4px 8px rgba(0, 0, 0, 0.15);\"> 🧩Data Understanding🧩</div>\n"
   ]
  },
  {
   "cell_type": "markdown",
   "id": "a0dab080",
   "metadata": {
    "papermill": {
     "duration": 0.022452,
     "end_time": "2024-12-11T17:45:53.731165",
     "exception": false,
     "start_time": "2024-12-11T17:45:53.708713",
     "status": "completed"
    },
    "tags": []
   },
   "source": [
    "<a id=\"1.1\"></a><div style=\"text-align: center; background: #007BFF; font-family: 'Verdana', sans-serif; color: white; padding: 18px; font-size: 24px; font-weight: 600; line-height: 1.3; border-radius: 20px; margin-bottom: 25px; box-shadow: 0px 4px 4px rgba(0, 0, 0, 0.1);\">Import Necessary Libraries</div>\n"
   ]
  },
  {
   "cell_type": "code",
   "execution_count": null,
   "id": "d575769b",
   "metadata": {
    "execution": {
     "iopub.execute_input": "2024-12-11T17:45:53.778476Z",
     "iopub.status.busy": "2024-12-11T17:45:53.778015Z",
     "iopub.status.idle": "2024-12-11T17:45:53.795872Z",
     "shell.execute_reply": "2024-12-11T17:45:53.794435Z"
    },
    "papermill": {
     "duration": 0.044728,
     "end_time": "2024-12-11T17:45:53.798601",
     "exception": false,
     "start_time": "2024-12-11T17:45:53.753873",
     "status": "completed"
    },
    "tags": []
   },
   "outputs": [],
   "source": [
    "import os\n",
    "dataset_path = '/kaggle/input/'\n",
    "for root, dirs, files in os.walk(dataset_path):\n",
    "    for file in files:\n",
    "        print(os.path.join(root, file))\n"
   ]
  },
  {
   "cell_type": "code",
   "execution_count": null,
   "id": "f34fdfbd",
   "metadata": {
    "execution": {
     "iopub.execute_input": "2024-12-11T17:45:53.846637Z",
     "iopub.status.busy": "2024-12-11T17:45:53.846144Z",
     "iopub.status.idle": "2024-12-11T17:45:57.716383Z",
     "shell.execute_reply": "2024-12-11T17:45:57.714917Z"
    },
    "id": "2rPcPabEYdI9",
    "papermill": {
     "duration": 3.897707,
     "end_time": "2024-12-11T17:45:57.719490",
     "exception": false,
     "start_time": "2024-12-11T17:45:53.821783",
     "status": "completed"
    },
    "tags": []
   },
   "outputs": [],
   "source": [
    "import numpy as np\n",
    "import pandas as pd\n",
    "import matplotlib.pyplot as plt\n",
    "import seaborn as sns\n",
    "import plotly.express as px\n",
    "import scipy.stats as stats\n",
    "import warnings\n",
    "warnings.filterwarnings('ignore')\n",
    "from sklearn.preprocessing import StandardScaler , MinMaxScaler\n"
   ]
  },
  {
   "cell_type": "code",
   "execution_count": null,
   "id": "fe18c13a",
   "metadata": {},
   "outputs": [],
   "source": [
    "!pip install xgboost\n"
   ]
  },
  {
   "cell_type": "markdown",
   "id": "ab7e4a3a",
   "metadata": {
    "papermill": {
     "duration": 0.025427,
     "end_time": "2024-12-11T17:45:57.768528",
     "exception": false,
     "start_time": "2024-12-11T17:45:57.743101",
     "status": "completed"
    },
    "tags": []
   },
   "source": [
    "<a id=\"1.2\"></a><div style=\"text-align: center; background: #007BFF; font-family: 'Verdana', sans-serif; color: white; padding: 18px; font-size: 24px; font-weight: 600; line-height: 1.3; border-radius: 20px; margin-bottom: 25px; box-shadow: 0px 4px 4px rgba(0, 0, 0, 0.1);\">Read And Understand Dataset</div>\n"
   ]
  },
  {
   "cell_type": "code",
   "execution_count": null,
   "id": "fbf06fe8",
   "metadata": {
    "execution": {
     "iopub.execute_input": "2024-12-11T17:45:57.820418Z",
     "iopub.status.busy": "2024-12-11T17:45:57.819773Z",
     "iopub.status.idle": "2024-12-11T17:45:57.842464Z",
     "shell.execute_reply": "2024-12-11T17:45:57.841160Z"
    },
    "id": "DUQrg8O_ZHcd",
    "papermill": {
     "duration": 0.052628,
     "end_time": "2024-12-11T17:45:57.845186",
     "exception": false,
     "start_time": "2024-12-11T17:45:57.792558",
     "status": "completed"
    },
    "tags": []
   },
   "outputs": [],
   "source": [
    "df = pd.read_csv('heart_disease_data.csv')"
   ]
  },
  {
   "cell_type": "code",
   "execution_count": null,
   "id": "202a2c78",
   "metadata": {
    "execution": {
     "iopub.execute_input": "2024-12-11T17:45:57.894692Z",
     "iopub.status.busy": "2024-12-11T17:45:57.894298Z",
     "iopub.status.idle": "2024-12-11T17:45:57.923471Z",
     "shell.execute_reply": "2024-12-11T17:45:57.921881Z"
    },
    "id": "iEfarbRuZL6v",
    "outputId": "c2565e92-8dd1-43b0-fd92-6a04c80bfdf5",
    "papermill": {
     "duration": 0.057802,
     "end_time": "2024-12-11T17:45:57.926779",
     "exception": false,
     "start_time": "2024-12-11T17:45:57.868977",
     "status": "completed"
    },
    "tags": []
   },
   "outputs": [],
   "source": [
    "df.head()"
   ]
  },
  {
   "cell_type": "code",
   "execution_count": null,
   "id": "05b342c6",
   "metadata": {
    "execution": {
     "iopub.execute_input": "2024-12-11T17:45:57.985057Z",
     "iopub.status.busy": "2024-12-11T17:45:57.984630Z",
     "iopub.status.idle": "2024-12-11T17:45:57.990560Z",
     "shell.execute_reply": "2024-12-11T17:45:57.989164Z"
    },
    "id": "JCkN6XHlbJjH",
    "outputId": "d477bc4b-d7df-42e0-d35c-5b7f3beab078",
    "papermill": {
     "duration": 0.038978,
     "end_time": "2024-12-11T17:45:57.992983",
     "exception": false,
     "start_time": "2024-12-11T17:45:57.954005",
     "status": "completed"
    },
    "tags": []
   },
   "outputs": [],
   "source": [
    "print(f'The Shape of dataset is {df.shape}')"
   ]
  },
  {
   "cell_type": "code",
   "execution_count": null,
   "id": "fbf7dc26",
   "metadata": {
    "execution": {
     "iopub.execute_input": "2024-12-11T17:45:58.114868Z",
     "iopub.status.busy": "2024-12-11T17:45:58.114105Z",
     "iopub.status.idle": "2024-12-11T17:45:58.124638Z",
     "shell.execute_reply": "2024-12-11T17:45:58.123069Z"
    },
    "id": "9HLCxHopbcxT",
    "outputId": "aac4d917-7438-43f7-c4ba-fdd6bc4c7042",
    "papermill": {
     "duration": 0.111511,
     "end_time": "2024-12-11T17:45:58.127856",
     "exception": false,
     "start_time": "2024-12-11T17:45:58.016345",
     "status": "completed"
    },
    "tags": []
   },
   "outputs": [],
   "source": [
    "df.columns.tolist()"
   ]
  },
  {
   "cell_type": "code",
   "execution_count": null,
   "id": "4a4e7d1f",
   "metadata": {
    "execution": {
     "iopub.execute_input": "2024-12-11T17:45:58.218845Z",
     "iopub.status.busy": "2024-12-11T17:45:58.218316Z",
     "iopub.status.idle": "2024-12-11T17:45:58.247654Z",
     "shell.execute_reply": "2024-12-11T17:45:58.246009Z"
    },
    "id": "uCr29R27dSWD",
    "outputId": "60cb968a-62a3-4429-fede-0302b718e64c",
    "papermill": {
     "duration": 0.073451,
     "end_time": "2024-12-11T17:45:58.250412",
     "exception": false,
     "start_time": "2024-12-11T17:45:58.176961",
     "status": "completed"
    },
    "tags": []
   },
   "outputs": [],
   "source": [
    "df.info()"
   ]
  },
  {
   "cell_type": "markdown",
   "id": "511ffc81",
   "metadata": {
    "papermill": {
     "duration": 0.023935,
     "end_time": "2024-12-11T17:45:58.298814",
     "exception": false,
     "start_time": "2024-12-11T17:45:58.274879",
     "status": "completed"
    },
    "tags": []
   },
   "source": [
    "<a id=\"2\"></a>\n",
    "<div style=\"text-align: center; background: #22177A; font-family: 'Verdana', sans-serif; color: white; padding: 15px; font-size: 28px; font-weight: bold; line-height: 1.2; border-radius: 10px; margin-bottom: 20px; box-shadow: 0px 4px 8px rgba(0, 0, 0, 0.15);\"> 🧩Data Preprocessing🧩</div>\n"
   ]
  },
  {
   "cell_type": "markdown",
   "id": "8a57fdeb",
   "metadata": {
    "papermill": {
     "duration": 0.027221,
     "end_time": "2024-12-11T17:45:58.358217",
     "exception": false,
     "start_time": "2024-12-11T17:45:58.330996",
     "status": "completed"
    },
    "tags": []
   },
   "source": [
    "<a id=\"2.1\"></a><div style=\"text-align: center; background: #007BFF; font-family: 'Verdana', sans-serif; color: white; padding: 18px; font-size: 24px; font-weight: 600; line-height: 1.3; border-radius: 20px; margin-bottom: 25px; box-shadow: 0px 4px 4px rgba(0, 0, 0, 0.1);\">Split categorical and numerical data</div>\n"
   ]
  },
  {
   "cell_type": "code",
   "execution_count": null,
   "id": "5ee8bb0e",
   "metadata": {
    "execution": {
     "iopub.execute_input": "2024-12-11T17:45:58.411557Z",
     "iopub.status.busy": "2024-12-11T17:45:58.411194Z",
     "iopub.status.idle": "2024-12-11T17:45:58.426970Z",
     "shell.execute_reply": "2024-12-11T17:45:58.425801Z"
    },
    "id": "PvAfS0Ybdo8X",
    "outputId": "3e27c276-e135-47e5-aecf-dd25f07b8fd2",
    "papermill": {
     "duration": 0.046948,
     "end_time": "2024-12-11T17:45:58.429346",
     "exception": false,
     "start_time": "2024-12-11T17:45:58.382398",
     "status": "completed"
    },
    "tags": []
   },
   "outputs": [],
   "source": [
    "categorical_data = df.select_dtypes(include=['object'])\n",
    "numerical_data = df.select_dtypes(include=['int64', 'float64'])\n",
    "categorical_data.head()"
   ]
  },
  {
   "cell_type": "code",
   "execution_count": null,
   "id": "0b553d97",
   "metadata": {
    "execution": {
     "iopub.execute_input": "2024-12-11T17:45:58.479007Z",
     "iopub.status.busy": "2024-12-11T17:45:58.478528Z",
     "iopub.status.idle": "2024-12-11T17:45:58.494267Z",
     "shell.execute_reply": "2024-12-11T17:45:58.493174Z"
    },
    "id": "4cO9_28Cexwl",
    "outputId": "09cbf6e7-7be7-4a73-9665-732dc539c176",
    "papermill": {
     "duration": 0.042753,
     "end_time": "2024-12-11T17:45:58.496381",
     "exception": false,
     "start_time": "2024-12-11T17:45:58.453628",
     "status": "completed"
    },
    "tags": []
   },
   "outputs": [],
   "source": [
    "numerical_data= numerical_data.drop(['HeartDisease'], axis=1)\n",
    "numerical_data.head()"
   ]
  },
  {
   "cell_type": "code",
   "execution_count": null,
   "id": "2783a69e",
   "metadata": {
    "execution": {
     "iopub.execute_input": "2024-12-11T17:45:58.546647Z",
     "iopub.status.busy": "2024-12-11T17:45:58.546233Z",
     "iopub.status.idle": "2024-12-11T17:45:58.563360Z",
     "shell.execute_reply": "2024-12-11T17:45:58.561923Z"
    },
    "id": "Mm8QKiR4fIGs",
    "outputId": "66e70b60-64d9-4486-8eeb-4928994aa4bc",
    "papermill": {
     "duration": 0.04569,
     "end_time": "2024-12-11T17:45:58.566073",
     "exception": false,
     "start_time": "2024-12-11T17:45:58.520383",
     "status": "completed"
    },
    "tags": []
   },
   "outputs": [],
   "source": [
    "print(categorical_data.describe())"
   ]
  },
  {
   "cell_type": "code",
   "execution_count": null,
   "id": "155a47f7",
   "metadata": {
    "execution": {
     "iopub.execute_input": "2024-12-11T17:45:58.618582Z",
     "iopub.status.busy": "2024-12-11T17:45:58.618146Z",
     "iopub.status.idle": "2024-12-11T17:45:58.648486Z",
     "shell.execute_reply": "2024-12-11T17:45:58.646757Z"
    },
    "id": "fRYe8bFYfSuc",
    "outputId": "71250f0d-2591-44ba-a016-62e17fcd9eed",
    "papermill": {
     "duration": 0.060443,
     "end_time": "2024-12-11T17:45:58.651494",
     "exception": false,
     "start_time": "2024-12-11T17:45:58.591051",
     "status": "completed"
    },
    "tags": []
   },
   "outputs": [],
   "source": [
    "print(numerical_data.describe().T)"
   ]
  },
  {
   "cell_type": "markdown",
   "id": "a751d102",
   "metadata": {
    "papermill": {
     "duration": 0.023956,
     "end_time": "2024-12-11T17:45:58.700648",
     "exception": false,
     "start_time": "2024-12-11T17:45:58.676692",
     "status": "completed"
    },
    "tags": []
   },
   "source": [
    "<a id=\"2.2\"></a><div style=\"text-align: center; background: #007BFF; font-family: 'Verdana', sans-serif; color: white; padding: 18px; font-size: 24px; font-weight: 600; line-height: 1.3; border-radius: 20px; margin-bottom: 25px; box-shadow: 0px 4px 4px rgba(0, 0, 0, 0.1);\">Unique Values</div>\n"
   ]
  },
  {
   "cell_type": "code",
   "execution_count": null,
   "id": "bbd2ba25",
   "metadata": {
    "execution": {
     "iopub.execute_input": "2024-12-11T17:45:58.751498Z",
     "iopub.status.busy": "2024-12-11T17:45:58.751049Z",
     "iopub.status.idle": "2024-12-11T17:45:58.768486Z",
     "shell.execute_reply": "2024-12-11T17:45:58.767244Z"
    },
    "id": "Rm9Mzetnb3XX",
    "outputId": "245eded1-551a-4463-9ed1-2ca583beac99",
    "papermill": {
     "duration": 0.046051,
     "end_time": "2024-12-11T17:45:58.771176",
     "exception": false,
     "start_time": "2024-12-11T17:45:58.725125",
     "status": "completed"
    },
    "tags": []
   },
   "outputs": [],
   "source": [
    "def unique_values(df):\n",
    "  df_unique_values = df.apply(lambda col: col.nunique())\n",
    "  df_cnt = pd.DataFrame(df_unique_values, columns=['unique_values'])\n",
    "  return df_cnt\n",
    "\n",
    "unique_values(df)"
   ]
  },
  {
   "cell_type": "markdown",
   "id": "902c064d",
   "metadata": {
    "papermill": {
     "duration": 0.02477,
     "end_time": "2024-12-11T17:45:58.820572",
     "exception": false,
     "start_time": "2024-12-11T17:45:58.795802",
     "status": "completed"
    },
    "tags": []
   },
   "source": [
    "<a id=\"2.3\"></a><div style=\"text-align: center; background: #007BFF; font-family: 'Verdana', sans-serif; color: white; padding: 18px; font-size: 24px; font-weight: 600; line-height: 1.3; border-radius: 20px; margin-bottom: 25px; box-shadow: 0px 4px 4px rgba(0, 0, 0, 0.1);\">Handling Missing and Duplicate Values</div>\n"
   ]
  },
  {
   "cell_type": "code",
   "execution_count": null,
   "id": "ed1ae8ab",
   "metadata": {
    "execution": {
     "iopub.execute_input": "2024-12-11T17:45:58.872887Z",
     "iopub.status.busy": "2024-12-11T17:45:58.871873Z",
     "iopub.status.idle": "2024-12-11T17:45:58.882396Z",
     "shell.execute_reply": "2024-12-11T17:45:58.881084Z"
    },
    "id": "gVs9QmUNc9cr",
    "outputId": "6b20f168-739f-4885-803f-de4900f8160a",
    "papermill": {
     "duration": 0.039946,
     "end_time": "2024-12-11T17:45:58.885207",
     "exception": false,
     "start_time": "2024-12-11T17:45:58.845261",
     "status": "completed"
    },
    "tags": []
   },
   "outputs": [],
   "source": [
    "df.isnull().sum()"
   ]
  },
  {
   "cell_type": "code",
   "execution_count": null,
   "id": "8865c158",
   "metadata": {
    "execution": {
     "iopub.execute_input": "2024-12-11T17:45:58.940594Z",
     "iopub.status.busy": "2024-12-11T17:45:58.940190Z",
     "iopub.status.idle": "2024-12-11T17:45:58.951672Z",
     "shell.execute_reply": "2024-12-11T17:45:58.950433Z"
    },
    "id": "vqclvyWVftk8",
    "outputId": "7db6b09f-7897-41a8-be7a-22814fbf9db6",
    "papermill": {
     "duration": 0.043184,
     "end_time": "2024-12-11T17:45:58.953967",
     "exception": false,
     "start_time": "2024-12-11T17:45:58.910783",
     "status": "completed"
    },
    "tags": []
   },
   "outputs": [],
   "source": [
    "df.duplicated().sum()"
   ]
  },
  {
   "cell_type": "code",
   "execution_count": null,
   "id": "88a71e1f",
   "metadata": {
    "execution": {
     "iopub.execute_input": "2024-12-11T17:45:59.005396Z",
     "iopub.status.busy": "2024-12-11T17:45:59.005021Z",
     "iopub.status.idle": "2024-12-11T17:45:59.019140Z",
     "shell.execute_reply": "2024-12-11T17:45:59.018027Z"
    },
    "id": "1YFr3rmxdvl3",
    "outputId": "ddcfe159-a809-4cd0-e3cc-c829a1874fe4",
    "papermill": {
     "duration": 0.042198,
     "end_time": "2024-12-11T17:45:59.021514",
     "exception": false,
     "start_time": "2024-12-11T17:45:58.979316",
     "status": "completed"
    },
    "tags": []
   },
   "outputs": [],
   "source": [
    "df.dropna(axis=0 , inplace=True)\n",
    "df.drop_duplicates(inplace=True)\n",
    "df.shape"
   ]
  },
  {
   "cell_type": "markdown",
   "id": "b3a04f17",
   "metadata": {
    "papermill": {
     "duration": 0.025888,
     "end_time": "2024-12-11T17:45:59.074010",
     "exception": false,
     "start_time": "2024-12-11T17:45:59.048122",
     "status": "completed"
    },
    "tags": []
   },
   "source": [
    "<a id=\"3\"></a>\n",
    "<div style=\"text-align: center; background: #22177A; font-family: 'Verdana', sans-serif; color: white; padding: 15px; font-size: 28px; font-weight: bold; line-height: 1.2; border-radius: 10px; margin-bottom: 20px; box-shadow: 0px 4px 8px rgba(0, 0, 0, 0.15);\">🧩ExploratoryData Analysis (EDA)🧩</div>\n"
   ]
  },
  {
   "cell_type": "markdown",
   "id": "6aeea7d9",
   "metadata": {
    "id": "ALdSHXmVs5CQ",
    "papermill": {
     "duration": 0.025405,
     "end_time": "2024-12-11T17:45:59.126381",
     "exception": false,
     "start_time": "2024-12-11T17:45:59.100976",
     "status": "completed"
    },
    "tags": []
   },
   "source": [
    "<a id=\"3.1\"></a><div style=\"text-align: center; background: #007BFF; font-family: 'Verdana', sans-serif; color: white; padding: 18px; font-size: 24px; font-weight: 600; line-height: 1.3; border-radius: 20px; margin-bottom: 25px; box-shadow: 0px 4px 4px rgba(0, 0, 0, 0.1);\">Target Variable Analysis</div>\n"
   ]
  },
  {
   "cell_type": "code",
   "execution_count": null,
   "id": "3e78f67e",
   "metadata": {
    "execution": {
     "iopub.execute_input": "2024-12-11T17:45:59.179904Z",
     "iopub.status.busy": "2024-12-11T17:45:59.178684Z",
     "iopub.status.idle": "2024-12-11T17:45:59.196431Z",
     "shell.execute_reply": "2024-12-11T17:45:59.194950Z"
    },
    "id": "-NutdL6amdD4",
    "outputId": "b89bf4ca-0d5b-4583-f8e1-0389c6418261",
    "papermill": {
     "duration": 0.047205,
     "end_time": "2024-12-11T17:45:59.199007",
     "exception": false,
     "start_time": "2024-12-11T17:45:59.151802",
     "status": "completed"
    },
    "tags": []
   },
   "outputs": [],
   "source": [
    "target_cnt= df['HeartDisease'].value_counts().reset_index()\n",
    "target_cnt.columns = ['HeartDisease', 'Count']\n",
    "target_cnt.sort_values(by='HeartDisease', inplace=True)\n",
    "target_cnt[\"Percentage\"] =(round((target_cnt[\"Count\"] / target_cnt[\"Count\"].sum()) * 100))\n",
    "\n",
    "target_cnt"
   ]
  },
  {
   "cell_type": "code",
   "execution_count": null,
   "id": "b0ba9b0f",
   "metadata": {
    "execution": {
     "iopub.execute_input": "2024-12-11T17:45:59.255071Z",
     "iopub.status.busy": "2024-12-11T17:45:59.254612Z",
     "iopub.status.idle": "2024-12-11T17:46:01.616880Z",
     "shell.execute_reply": "2024-12-11T17:46:01.615465Z"
    },
    "id": "P4jFWSOYrH0q",
    "outputId": "11a1adbd-5a01-4472-9013-a5d470559e26",
    "papermill": {
     "duration": 2.391587,
     "end_time": "2024-12-11T17:46:01.619184",
     "exception": false,
     "start_time": "2024-12-11T17:45:59.227597",
     "status": "completed"
    },
    "tags": []
   },
   "outputs": [],
   "source": [
    "# Shows the Distribution of Heat Diseases with respect to male and female\n",
    "\n",
    "fig=px.bar(target_cnt,\n",
    "                 x=\"HeartDisease\",\n",
    "                 y= 'Count',\n",
    "                 text = 'Percentage',\n",
    "                 color=\"HeartDisease\",\n",
    "                 title=\"Distribution of Heart Diseases\",\n",
    "                 barmode=\"group\")\n",
    "fig.show()\n",
    "\n",
    "\n",
    "fig=px.histogram(df,\n",
    "                 x=\"HeartDisease\",\n",
    "                 color=\"Sex\",\n",
    "                 hover_data=df.columns,\n",
    "                 title=\"Distribution of Heart Diseases\",\n",
    "                 barmode=\"group\")\n",
    "fig.show()"
   ]
  },
  {
   "cell_type": "markdown",
   "id": "bf098921",
   "metadata": {
    "id": "hVARVVCxw3FV",
    "papermill": {
     "duration": 0.024779,
     "end_time": "2024-12-11T17:46:01.669492",
     "exception": false,
     "start_time": "2024-12-11T17:46:01.644713",
     "status": "completed"
    },
    "tags": []
   },
   "source": [
    "<a id=\"3.2\"></a><div style=\"text-align: center; background: #007BFF; font-family: 'Verdana', sans-serif; color: white; padding: 18px; font-size: 24px; font-weight: 600; line-height: 1.3; border-radius: 20px; margin-bottom: 25px; box-shadow: 0px 4px 4px rgba(0, 0, 0, 0.1);\">Univariate Analysis</div>\n"
   ]
  },
  {
   "cell_type": "code",
   "execution_count": null,
   "id": "0f6c9240",
   "metadata": {
    "execution": {
     "iopub.execute_input": "2024-12-11T17:46:01.721720Z",
     "iopub.status.busy": "2024-12-11T17:46:01.721192Z",
     "iopub.status.idle": "2024-12-11T17:46:01.727909Z",
     "shell.execute_reply": "2024-12-11T17:46:01.726646Z"
    },
    "id": "kSvAXLxDw2Vw",
    "papermill": {
     "duration": 0.036033,
     "end_time": "2024-12-11T17:46:01.730502",
     "exception": false,
     "start_time": "2024-12-11T17:46:01.694469",
     "status": "completed"
    },
    "tags": []
   },
   "outputs": [],
   "source": [
    "def plot_hist(col):\n",
    "  fig=px.histogram(df,\n",
    "                 x=col,\n",
    "                #  color=\"HeartDisease\",\n",
    "                 hover_data=df.columns,\n",
    "                 title=f\"Distribution of {col} \",\n",
    "                 barmode=\"group\")\n",
    "  fig.show()"
   ]
  },
  {
   "cell_type": "code",
   "execution_count": null,
   "id": "ab0ad31e",
   "metadata": {
    "execution": {
     "iopub.execute_input": "2024-12-11T17:46:01.785652Z",
     "iopub.status.busy": "2024-12-11T17:46:01.784547Z",
     "iopub.status.idle": "2024-12-11T17:46:01.791460Z",
     "shell.execute_reply": "2024-12-11T17:46:01.790252Z"
    },
    "id": "vIplDFwbAY86",
    "papermill": {
     "duration": 0.037256,
     "end_time": "2024-12-11T17:46:01.794352",
     "exception": false,
     "start_time": "2024-12-11T17:46:01.757096",
     "status": "completed"
    },
    "tags": []
   },
   "outputs": [],
   "source": [
    "def plot_bar(col):\n",
    "    val_cnt = df[col].value_counts().reset_index()\n",
    "    val_cnt.columns = [col, 'Count']\n",
    "    val_cnt[\"Percentage\"] =(round((val_cnt[\"Count\"] / val_cnt[\"Count\"].sum()) * 100))\n",
    "\n",
    "    fig=px.bar(val_cnt,\n",
    "                 x=col,\n",
    "                 y= 'Count',\n",
    "                 text = 'Percentage',\n",
    "                 color=col,\n",
    "                 title=f\"Distribution of {col} Diseases\",\n",
    "                 barmode=\"group\")\n",
    "    fig.show()"
   ]
  },
  {
   "cell_type": "code",
   "execution_count": null,
   "id": "f96dde9f",
   "metadata": {
    "execution": {
     "iopub.execute_input": "2024-12-11T17:46:01.849118Z",
     "iopub.status.busy": "2024-12-11T17:46:01.848481Z",
     "iopub.status.idle": "2024-12-11T17:46:02.110946Z",
     "shell.execute_reply": "2024-12-11T17:46:02.109620Z"
    },
    "id": "1emXov81yrE3",
    "outputId": "e83bb0d7-0d5a-40f8-d0b2-e11abfd4027e",
    "papermill": {
     "duration": 0.292422,
     "end_time": "2024-12-11T17:46:02.113508",
     "exception": false,
     "start_time": "2024-12-11T17:46:01.821086",
     "status": "completed"
    },
    "tags": []
   },
   "outputs": [],
   "source": [
    "for i in categorical_data.columns:\n",
    "  plot_hist(i)"
   ]
  },
  {
   "cell_type": "code",
   "execution_count": null,
   "id": "0957afeb",
   "metadata": {
    "execution": {
     "iopub.execute_input": "2024-12-11T17:46:02.176199Z",
     "iopub.status.busy": "2024-12-11T17:46:02.174752Z",
     "iopub.status.idle": "2024-12-11T17:46:02.494555Z",
     "shell.execute_reply": "2024-12-11T17:46:02.493273Z"
    },
    "id": "Chi9FAfjxzKM",
    "outputId": "ae5b044e-480b-43a5-c5a4-84e40f65de8e",
    "papermill": {
     "duration": 0.353956,
     "end_time": "2024-12-11T17:46:02.497188",
     "exception": false,
     "start_time": "2024-12-11T17:46:02.143232",
     "status": "completed"
    },
    "tags": []
   },
   "outputs": [],
   "source": [
    "for i in numerical_data.columns:\n",
    "  plot_bar(i)"
   ]
  },
  {
   "cell_type": "code",
   "execution_count": null,
   "id": "f4aa007c",
   "metadata": {
    "execution": {
     "iopub.execute_input": "2024-12-11T17:46:02.563842Z",
     "iopub.status.busy": "2024-12-11T17:46:02.563380Z",
     "iopub.status.idle": "2024-12-11T17:46:02.890248Z",
     "shell.execute_reply": "2024-12-11T17:46:02.888754Z"
    },
    "id": "_EhFb56cAfcQ",
    "outputId": "3bf8d9db-9af5-4b13-bb85-8bedc09d11cd",
    "papermill": {
     "duration": 0.363355,
     "end_time": "2024-12-11T17:46:02.892796",
     "exception": false,
     "start_time": "2024-12-11T17:46:02.529441",
     "status": "completed"
    },
    "tags": []
   },
   "outputs": [],
   "source": [
    "for i  in categorical_data.columns:\n",
    "  plot_bar(i)"
   ]
  },
  {
   "cell_type": "code",
   "execution_count": null,
   "id": "31e18812",
   "metadata": {
    "execution": {
     "iopub.execute_input": "2024-12-11T17:46:02.967869Z",
     "iopub.status.busy": "2024-12-11T17:46:02.966223Z",
     "iopub.status.idle": "2024-12-11T17:46:02.972897Z",
     "shell.execute_reply": "2024-12-11T17:46:02.971728Z"
    },
    "id": "mlfeVDy7DgTP",
    "papermill": {
     "duration": 0.044747,
     "end_time": "2024-12-11T17:46:02.975294",
     "exception": false,
     "start_time": "2024-12-11T17:46:02.930547",
     "status": "completed"
    },
    "tags": []
   },
   "outputs": [],
   "source": [
    "def plot_hist(col):\n",
    "  fig=px.histogram(df,\n",
    "                 x=col,\n",
    "                 color=\"HeartDisease\",\n",
    "                 hover_data=df.columns,\n",
    "                 title=f\"Distribution of {col} Diseases\",\n",
    "                 barmode=\"group\")\n",
    "  fig.show()"
   ]
  },
  {
   "cell_type": "code",
   "execution_count": null,
   "id": "120f011b",
   "metadata": {
    "execution": {
     "iopub.execute_input": "2024-12-11T17:46:03.042992Z",
     "iopub.status.busy": "2024-12-11T17:46:03.042535Z",
     "iopub.status.idle": "2024-12-11T17:46:03.334992Z",
     "shell.execute_reply": "2024-12-11T17:46:03.333538Z"
    },
    "id": "T7m_cFE-CXr1",
    "outputId": "6c61b7da-af06-44b7-fa09-68c5bb581d0a",
    "papermill": {
     "duration": 0.329222,
     "end_time": "2024-12-11T17:46:03.337423",
     "exception": false,
     "start_time": "2024-12-11T17:46:03.008201",
     "status": "completed"
    },
    "tags": []
   },
   "outputs": [],
   "source": [
    "for i  in categorical_data.columns:\n",
    "  plot_hist(i)"
   ]
  },
  {
   "cell_type": "code",
   "execution_count": null,
   "id": "ea40465b",
   "metadata": {
    "execution": {
     "iopub.execute_input": "2024-12-11T17:46:03.413084Z",
     "iopub.status.busy": "2024-12-11T17:46:03.412588Z",
     "iopub.status.idle": "2024-12-11T17:46:30.145071Z",
     "shell.execute_reply": "2024-12-11T17:46:30.143708Z"
    },
    "id": "OfihKNUrGYRw",
    "outputId": "c2306992-f750-442a-df95-3b7c01e70a16",
    "papermill": {
     "duration": 26.77554,
     "end_time": "2024-12-11T17:46:30.150706",
     "exception": false,
     "start_time": "2024-12-11T17:46:03.375166",
     "status": "completed"
    },
    "tags": []
   },
   "outputs": [],
   "source": [
    "plt.figure(figsize=(15,10))\n",
    "for i,col in enumerate(df.columns,1):\n",
    "    plt.subplot(4,3,i)\n",
    "    plt.title(f\"Distribution of {col} Data\")\n",
    "    sns.histplot(df[col],kde=True )\n",
    "    plt.savefig('Variables distribution.png', dpi=300, bbox_inches='tight')  # Save as PNG\n",
    "\n",
    "    plt.tight_layout()\n",
    "    plt.plot()"
   ]
  },
  {
   "cell_type": "markdown",
   "id": "d0c93a20",
   "metadata": {
    "papermill": {
     "duration": 0.04019,
     "end_time": "2024-12-11T17:46:30.232504",
     "exception": false,
     "start_time": "2024-12-11T17:46:30.192314",
     "status": "completed"
    },
    "tags": []
   },
   "source": [
    "<a id=\"observations\"></a>\n",
    "<div style=\"text-align: center; background: #009688; font-family: 'Trebuchet MS', Arial, sans-serif; color: white; padding: 15px; font-size: 22px; font-weight: bold; border-radius: 8px; margin-bottom: 15px; box-shadow: 0px 4px 6px rgba(0, 0, 0, 0.1);\">\n",
    "    🔑 Key Observations\n",
    "</div>\n",
    "\n",
    "<div style=\"font-family: 'Arial', sans-serif; font-size: 16px; line-height: 1.8; background: #f9f9f9; padding: 15px; border-radius: 8px; border: 1px solid #ddd; box-shadow: 0px 2px 4px rgba(0, 0, 0, 0.1);\">\n",
    "\n",
    "<ul style=\"list-style-type: disc; padding-left: 20px;\">\n",
    "    <li><b>Age:</b> The distribution is roughly normal, with the majority of individuals aged between <b>40 and 60 years</b>.</li>\n",
    "    <li><b>Sex:</b> The dataset contains more <b>males (M)</b> than <b>females (F)</b>.</li>\n",
    "    <li><b>Chest Pain Type (ChestPainType):</b> Among the categories (<b>ATA, NAP, ASY, TA</b>), the \"<b>ASY</b>\" category appears most common, indicating many individuals may experience atypical symptoms.</li>\n",
    "    <li><b>Resting Blood Pressure (RestingBP):</b> The values center around <b>120 mmHg</b>, with a slight skew toward higher readings.</li>\n",
    "    <li><b>Cholesterol:</b> The data follows a near-normal distribution, with most values between <b>150 and 300 mg/dL</b>, suggesting varying cholesterol levels across the population.</li>\n",
    "    <li><b>Fasting Blood Sugar (FastingBS):</b> Most people in the dataset have a fasting blood sugar below <b>1</b>, indicating fasting blood sugar is generally within the normal range.</li>\n",
    "    <li><b>Resting ECG:</b> The majority fall into the \"<b>Normal</b>\" category, with fewer cases in \"<b>ST</b>\" or \"<b>LVH</b>\" categories.</li>\n",
    "    <li><b>Max Heart Rate Achieved (MaxHR):</b> The distribution peaks around <b>140-160 beats per minute</b>, indicating typical heart rate limits during exertion.</li>\n",
    "    <li><b>Exercise-Induced Angina (ExerciseAngina):</b> Most individuals do not experience exercise-induced angina, as indicated by the dominance of the \"<b>N</b>\" category.</li>\n",
    "    <li><b>Oldpeak (ST Depression):</b> Most values are close to <b>zero</b>, suggesting relatively normal exercise ECG results for many participants.</li>\n",
    "    <li><b>ST Slope:</b> \"<b>Flat</b>\" is the most common slope type, followed by \"<b>Up</b>,\" indicating variability in ECG patterns.</li>\n",
    "    <li><b>Heart Disease:</b> The target variable shows a <b>bimodal distribution</b>, indicating both the presence and absence of heart disease cases.</li>\n",
    "</ul>\n",
    "</div>\n"
   ]
  },
  {
   "cell_type": "markdown",
   "id": "505a15b9",
   "metadata": {
    "papermill": {
     "duration": 0.041153,
     "end_time": "2024-12-11T17:46:30.314530",
     "exception": false,
     "start_time": "2024-12-11T17:46:30.273377",
     "status": "completed"
    },
    "tags": []
   },
   "source": [
    "<a id=\"3.3\"></a><div style=\"text-align: center; background: #007BFF; font-family: 'Verdana', sans-serif; color: white; padding: 18px; font-size: 24px; font-weight: 600; line-height: 1.3; border-radius: 20px; margin-bottom: 25px; box-shadow: 0px 4px 4px rgba(0, 0, 0, 0.1);\">Pair-Plot</div>\n"
   ]
  },
  {
   "cell_type": "code",
   "execution_count": null,
   "id": "771366be",
   "metadata": {
    "execution": {
     "iopub.execute_input": "2024-12-11T17:46:30.398372Z",
     "iopub.status.busy": "2024-12-11T17:46:30.397952Z",
     "iopub.status.idle": "2024-12-11T17:46:55.599594Z",
     "shell.execute_reply": "2024-12-11T17:46:55.597889Z"
    },
    "id": "fFhQt9PCF_mO",
    "outputId": "08e03f32-51ce-4884-cf86-a28faf0d23c7",
    "papermill": {
     "duration": 25.256851,
     "end_time": "2024-12-11T17:46:55.612329",
     "exception": false,
     "start_time": "2024-12-11T17:46:30.355478",
     "status": "completed"
    },
    "tags": []
   },
   "outputs": [],
   "source": [
    "plt.figure(figsize=(15,10))\n",
    "sns.pairplot(df,hue=\"HeartDisease\")\n",
    "plt.title(\"Looking for Insites in Data\")\n",
    "plt.legend(\"HeartDisease\")\n",
    "plt.savefig('Looking Insights.png', dpi=300, bbox_inches='tight')  # Save as PNG\n",
    "plt.tight_layout()\n",
    "plt.plot()"
   ]
  },
  {
   "cell_type": "markdown",
   "id": "86978861",
   "metadata": {
    "papermill": {
     "duration": 0.05613,
     "end_time": "2024-12-11T17:46:55.724888",
     "exception": false,
     "start_time": "2024-12-11T17:46:55.668758",
     "status": "completed"
    },
    "tags": []
   },
   "source": [
    "<a id=\"insights\"></a>\n",
    "<div style=\"text-align: center; background: #009688; font-family: 'Trebuchet MS', Arial, sans-serif; color: white; padding: 15px; font-size: 22px; font-weight: bold; border-radius: 8px; margin-bottom: 15px; box-shadow: 0px 4px 6px rgba(0, 0, 0, 0.1);\">\n",
    "    🔑 Key Insights\n",
    "</div>\n",
    "\n",
    "<div style=\"font-family: 'Arial', sans-serif; font-size: 16px; line-height: 1.8; background: #f9f9f9; padding: 15px; border-radius: 8px; border: 1px solid #ddd; box-shadow: 0px 2px 4px rgba(0, 0, 0, 0.1);\">\n",
    "\n",
    "<ul style=\"list-style-type: decimal; padding-left: 20px;\">\n",
    "    <li><b>Age:</b> People with heart disease (orange points) tend to cluster in older age groups, whereas those without heart disease (blue points) are more evenly distributed across the age range.</li>\n",
    "    <li><b>RestingBP (Resting Blood Pressure):</b> No strong visible pattern differentiates heart disease and non-heart disease groups based on RestingBP, suggesting it might not be a strong independent predictor.</li>\n",
    "    <li><b>Cholesterol:</b> Cholesterol values span a wide range for both groups, but heart disease patients exhibit slightly higher cholesterol levels on average.</li>\n",
    "    <li><b>FastingBS (Fasting Blood Sugar):</b> FastingBS is binary (0 or 1). A higher proportion of individuals with heart disease have elevated fasting blood sugar levels (value of 1).</li>\n",
    "    <li><b>MaxHR (Maximum Heart Rate Achieved):</b> A clear distinction is observed here: those without heart disease tend to achieve higher maximum heart rates compared to those with heart disease, making this a potentially strong predictive feature.</li>\n",
    "    <li><b>Oldpeak:</b> Oldpeak (likely ST depression) is visibly higher for individuals with heart disease, as indicated by the clustering of orange points in the higher range.</li>\n",
    "</ul>\n",
    "\n",
    "<h4 style=\"color: #333;\">Overall Relationships:</h4>\n",
    "<p>The scatter plots reveal correlations between some variables. For example, <b>Age</b> and <b>MaxHR</b> show a negative trend for both groups, with older individuals generally achieving lower max heart rates. <b>Cholesterol</b> and <b>RestingBP</b> do not show any obvious relationships with other variables.</p>\n",
    "\n",
    "<h4 style=\"color: #333;\">Predictive Variables:</h4>\n",
    "<p><b>MaxHR</b>, <b>Age</b>, <b>Oldpeak</b>, and <b>FastingBS</b> appear to have the most significant separation between individuals with and without heart disease, suggesting they could be strong predictors in a classification model.</p>\n",
    "</div>\n"
   ]
  },
  {
   "cell_type": "markdown",
   "id": "c00fae0f",
   "metadata": {
    "papermill": {
     "duration": 0.055457,
     "end_time": "2024-12-11T17:46:55.836189",
     "exception": false,
     "start_time": "2024-12-11T17:46:55.780732",
     "status": "completed"
    },
    "tags": []
   },
   "source": []
  },
  {
   "cell_type": "code",
   "execution_count": null,
   "id": "5058f5d0",
   "metadata": {
    "execution": {
     "iopub.execute_input": "2024-12-11T17:46:55.949384Z",
     "iopub.status.busy": "2024-12-11T17:46:55.948928Z",
     "iopub.status.idle": "2024-12-11T17:46:55.958071Z",
     "shell.execute_reply": "2024-12-11T17:46:55.956907Z"
    },
    "id": "XqJTwfir0uSz",
    "papermill": {
     "duration": 0.069279,
     "end_time": "2024-12-11T17:46:55.960892",
     "exception": false,
     "start_time": "2024-12-11T17:46:55.891613",
     "status": "completed"
    },
    "tags": []
   },
   "outputs": [],
   "source": [
    "import plotly.graph_objects as go\n",
    "from plotly.subplots import make_subplots # Import the make_subplots function"
   ]
  },
  {
   "cell_type": "code",
   "execution_count": null,
   "id": "d803a2c9",
   "metadata": {
    "execution": {
     "iopub.execute_input": "2024-12-11T17:46:56.082280Z",
     "iopub.status.busy": "2024-12-11T17:46:56.081822Z",
     "iopub.status.idle": "2024-12-11T17:46:56.182643Z",
     "shell.execute_reply": "2024-12-11T17:46:56.181407Z"
    },
    "id": "VwfmZlHMGrB5",
    "outputId": "ed8bc666-cef5-4e1c-c96c-23af5b2d2163",
    "papermill": {
     "duration": 0.163949,
     "end_time": "2024-12-11T17:46:56.185077",
     "exception": false,
     "start_time": "2024-12-11T17:46:56.021128",
     "status": "completed"
    },
    "tags": []
   },
   "outputs": [],
   "source": [
    "num_features = numerical_data.columns.tolist()\n",
    "num_plots = len(num_features)\n",
    "\n",
    "n_cols = 2  \n",
    "n_rows = (num_plots + n_cols - 1) // n_cols \n",
    "fig = make_subplots(rows=n_rows, cols=n_cols, subplot_titles=[f\"Distribution of {col}\" for col in num_features])\n",
    "\n",
    "for idx, feature in enumerate(num_features):\n",
    "    row = idx // n_cols + 1\n",
    "    col = idx % n_cols + 1\n",
    "\n",
    "    box_plot = go.Box(\n",
    "        y=df[feature],\n",
    "        x=df[\"HeartDisease\"],\n",
    "        name=feature,\n",
    "        marker_color=\"blue\",\n",
    "        boxmean=True  \n",
    "    )\n",
    "    fig.add_trace(box_plot, row=row, col=col)\n",
    "\n",
    "fig.update_layout(\n",
    "    height=300 * n_rows,  \n",
    "    width=1000,           \n",
    "    title_text=\"Box Plots of Numerical Features by HeartDisease\",\n",
    "    showlegend=False     \n",
    ")\n",
    "\n",
    "fig.show()"
   ]
  },
  {
   "cell_type": "markdown",
   "id": "46462d19",
   "metadata": {
    "papermill": {
     "duration": 0.056135,
     "end_time": "2024-12-11T17:46:56.298155",
     "exception": false,
     "start_time": "2024-12-11T17:46:56.242020",
     "status": "completed"
    },
    "tags": []
   },
   "source": [
    "<a id=\"box-plot-insights\"></a>\n",
    "<div style=\"text-align: center; background: #009688; font-family: 'Trebuchet MS', Arial, sans-serif; color: white; padding: 15px; font-size: 22px; font-weight: bold; border-radius: 8px; margin-bottom: 15px; box-shadow: 0px 4px 6px rgba(0, 0, 0, 0.1);\">\n",
    "    🔑 Insights from the Box Plots of Numerical Features by Heart Disease\n",
    "</div>\n",
    "\n",
    "<div style=\"font-family: 'Arial', sans-serif; font-size: 16px; line-height: 1.8; background: #f9f9f9; padding: 15px; border-radius: 8px; border: 1px solid #ddd; box-shadow: 0px 2px 4px rgba(0, 0, 0, 0.1);\">\n",
    "\n",
    "<ul style=\"list-style-type: decimal; padding-left: 20px;\">\n",
    "    <li><b>Age:</b> Patients with heart disease (label 1) tend to have a slightly higher median age compared to those without heart disease (label 0). However, there is significant overlap, indicating that age alone might not be a strong predictor.</li>\n",
    "    <li><b>RestingBP (Resting Blood Pressure):</b> The distribution of resting blood pressure is fairly similar for both groups. Both groups exhibit some outliers, suggesting that resting blood pressure might not differentiate strongly between heart disease and non-heart disease cases.</li>\n",
    "    <li><b>Cholesterol:</b> Patients without heart disease (label 0) show a wider range of cholesterol values, while patients with heart disease (label 1) tend to cluster at slightly lower values. Outliers are present in both groups.</li>\n",
    "    <li><b>FastingBS (Fasting Blood Sugar):</b> Fasting blood sugar values appear to vary significantly between the groups. A notable concentration of patients with heart disease (label 1) have higher fasting blood sugar levels, suggesting this could be a potential predictor.</li>\n",
    "    <li><b>MaxHR (Maximum Heart Rate):</b> Patients with heart disease (label 1) tend to have lower maximum heart rates compared to those without heart disease (label 0). This variable seems to show a clearer distinction between the two groups.</li>\n",
    "    <li><b>Oldpeak:</b> Oldpeak values (ST depression induced by exercise relative to rest) are higher in patients with heart disease. This variable shows a strong separation between the two groups, indicating it could be a strong predictor for heart disease.</li>\n",
    "</ul>\n",
    "\n",
    "</div>\n"
   ]
  },
  {
   "cell_type": "code",
   "execution_count": null,
   "id": "f581158d",
   "metadata": {
    "execution": {
     "iopub.execute_input": "2024-12-11T17:46:56.415178Z",
     "iopub.status.busy": "2024-12-11T17:46:56.414689Z",
     "iopub.status.idle": "2024-12-11T17:47:00.937392Z",
     "shell.execute_reply": "2024-12-11T17:47:00.935931Z"
    },
    "id": "BuLvqxoo7vuS",
    "outputId": "f0e361c8-481e-4820-d7e8-069eb670be3e",
    "papermill": {
     "duration": 4.585491,
     "end_time": "2024-12-11T17:47:00.941766",
     "exception": false,
     "start_time": "2024-12-11T17:46:56.356275",
     "status": "completed"
    },
    "tags": []
   },
   "outputs": [],
   "source": [
    "\n",
    "num_features = len(numerical_data.columns)\n",
    "cols = 2  \n",
    "rows = (num_features + cols - 1) // cols  \n",
    "fig, axes = plt.subplots(rows, cols, figsize=(16, rows * 4))  # Create the subplot grid\n",
    "axes = axes.flatten() \n",
    "for i, feature in enumerate(numerical_data.columns):\n",
    "    sns.kdeplot(\n",
    "        data=df,\n",
    "        x=feature,\n",
    "        color='dodgerblue',\n",
    "        fill=True,\n",
    "        label=\"Data Distribution\",\n",
    "        shade=True,\n",
    "        linewidth=2,\n",
    "        ax=axes[i]\n",
    "    )\n",
    "\n",
    "    mean = df[feature].mean()\n",
    "    std = df[feature].std()\n",
    "\n",
    "    x = np.linspace(mean - 3 * std, mean + 3 * std, 100)\n",
    "    y = stats.norm.pdf(x, mean, std)\n",
    "\n",
    "    axes[i].plot(x, y, color=\"red\", label=\"Normal Distribution\")\n",
    "\n",
    "    axes[i].set_title(f\"Distribution of {feature}\")\n",
    "    axes[i].legend()\n",
    "\n",
    "for j in range(i + 1, len(axes)):\n",
    "    fig.delaxes(axes[j])\n",
    "\n",
    "plt.tight_layout()\n",
    "plt.savefig('Features Vs Noraml Distributions', dpi=300, bbox_inches='tight')  # Save as PNG\n",
    "\n",
    "plt.show()"
   ]
  },
  {
   "cell_type": "markdown",
   "id": "6b592737",
   "metadata": {
    "papermill": {
     "duration": 0.061484,
     "end_time": "2024-12-11T17:47:01.065496",
     "exception": false,
     "start_time": "2024-12-11T17:47:01.004012",
     "status": "completed"
    },
    "tags": []
   },
   "source": [
    "<a id=\"feature-insights\"></a>\n",
    "<div style=\"text-align: center; background: #009688; font-family: 'Trebuchet MS', Arial, sans-serif; color: white; padding: 15px; font-size: 22px; font-weight: bold; border-radius: 8px; margin-bottom: 15px; box-shadow: 0px 4px 6px rgba(0, 0, 0, 0.1);\">\n",
    "    🔑 Feature Distributions and Insights\n",
    "</div>\n",
    "\n",
    "<div style=\"font-family: 'Arial', sans-serif; font-size: 16px; line-height: 1.8; background: #f9f9f9; padding: 15px; border-radius: 8px; border: 1px solid #ddd; box-shadow: 0px 2px 4px rgba(0, 0, 0, 0.1);\">\n",
    "\n",
    "<ul style=\"list-style-type: decimal; padding-left: 20px;\">\n",
    "    <li><b>Age:</b> The distribution closely follows a normal curve, suggesting minimal preprocessing may be required. This feature could work well as a continuous variable in most models.</li>\n",
    "    <li><b>RestingBP (Resting Blood Pressure):</b> Slight deviation from normality, with a minor skew to the right.</li>\n",
    "    <li><b>Cholesterol:</b> The distribution is unimodal and approximately normal, but with some noticeable tails.</li>\n",
    "    <li><b>FastingBS (Fasting Blood Sugar):</b> This appears to be a discrete feature, primarily clustering at 0 and 1 (binary). It should likely be treated as a categorical variable instead of continuous.</li>\n",
    "    <li><b>MaxHR (Maximum Heart Rate):</b> This feature also resembles a normal distribution, with a slight skew to the left. It is well-suited for models that assume normality, but further normalization could improve symmetry.</li>\n",
    "    <li><b>Oldpeak:</b> Highly skewed, with most values concentrated around 0. This feature may benefit from transformations (e.g., log or Box-Cox) to reduce skewness and make the distribution more symmetrical.</li>\n",
    "</ul>\n",
    "\n",
    "</div>\n"
   ]
  },
  {
   "cell_type": "markdown",
   "id": "f0dd0fc3",
   "metadata": {
    "papermill": {
     "duration": 0.064676,
     "end_time": "2024-12-11T17:47:01.192058",
     "exception": false,
     "start_time": "2024-12-11T17:47:01.127382",
     "status": "completed"
    },
    "tags": []
   },
   "source": [
    "<a id=\"4\"></a>\n",
    "<div style=\"text-align: center; background: #22177A; font-family: 'Verdana', sans-serif; color: white; padding: 15px; font-size: 28px; font-weight: bold; line-height: 1.2; border-radius: 10px; margin-bottom: 20px; box-shadow: 0px 4px 8px rgba(0, 0, 0, 0.15);\"> 🧩Statistical Analysis🧩</div>\n"
   ]
  },
  {
   "cell_type": "markdown",
   "id": "f520f558",
   "metadata": {
    "id": "7WVRXHCHSG3u",
    "papermill": {
     "duration": 0.062116,
     "end_time": "2024-12-11T17:47:01.316593",
     "exception": false,
     "start_time": "2024-12-11T17:47:01.254477",
     "status": "completed"
    },
    "tags": []
   },
   "source": [
    "<a id=\"4.1\"></a><div style=\"text-align: center; background: #007BFF; font-family: 'Verdana', sans-serif; color: white; padding: 18px; font-size: 24px; font-weight: 600; line-height: 1.3; border-radius: 20px; margin-bottom: 25px; box-shadow: 0px 4px 4px rgba(0, 0, 0, 0.1);\">QQ-Plot</div>\n"
   ]
  },
  {
   "cell_type": "code",
   "execution_count": null,
   "id": "15b074f1",
   "metadata": {
    "execution": {
     "iopub.execute_input": "2024-12-11T17:47:01.444023Z",
     "iopub.status.busy": "2024-12-11T17:47:01.443505Z",
     "iopub.status.idle": "2024-12-11T17:47:03.107587Z",
     "shell.execute_reply": "2024-12-11T17:47:03.106264Z"
    },
    "id": "i53TV4i9Rf92",
    "outputId": "41aafc50-7b26-4766-b174-b5fbda70ac09",
    "papermill": {
     "duration": 1.730951,
     "end_time": "2024-12-11T17:47:03.110226",
     "exception": false,
     "start_time": "2024-12-11T17:47:01.379275",
     "status": "completed"
    },
    "tags": []
   },
   "outputs": [],
   "source": [
    "for i in numerical_data.columns:\n",
    "  stats.probplot(df[i], dist=\"norm\", plot=plt)\n",
    "  plt.title(f\"Q-Q plot for {i} \" , fontsize = 16)\n",
    "  plt.show()"
   ]
  },
  {
   "cell_type": "markdown",
   "id": "9e08745d",
   "metadata": {
    "papermill": {
     "duration": 0.066394,
     "end_time": "2024-12-11T17:47:03.246528",
     "exception": false,
     "start_time": "2024-12-11T17:47:03.180134",
     "status": "completed"
    },
    "tags": []
   },
   "source": [
    "<a id=\"feature-insights\"></a>\n",
    "<div style=\"text-align: center; background: #009688; font-family: 'Trebuchet MS', Arial, sans-serif; color: white; padding: 15px; font-size: 22px; font-weight: bold; border-radius: 8px; margin-bottom: 15px; box-shadow: 0px 4px 6px rgba(0, 0, 0, 0.1);\">\n",
    "    🔑 Feature Insights\n",
    "</div>\n",
    "\n",
    "<div style=\"font-family: 'Arial', sans-serif; font-size: 16px; line-height: 1.8; background: #f9f9f9; padding: 15px; border-radius: 8px; border: 1px solid #ddd; box-shadow: 0px 2px 4px rgba(0, 0, 0, 0.1);\">\n",
    "\n",
    "<ul style=\"list-style-type: decimal; padding-left: 20px;\">\n",
    "    <li><b>Age:</b> The variable \"Age\" is approximately normally distributed, though minor deviations in the tails might suggest a slight skewness.</li>\n",
    "    <li><b>RestingBP (Resting Blood Pressure):</b> \"RestingBP\" does not follow a normal distribution. The deviations at the lower end suggest the presence of outliers or a floor effect.</li>\n",
    "    <li><b>Cholesterol:</b> \"Cholesterol\" has a heavily skewed or non-normal distribution, possibly due to missing or zero values being encoded improperly.</li>\n",
    "    <li><b>MaxHR (Maximum Heart Rate):</b> \"MaxHR\" is approximately normal, with minor outliers or skewness in the higher range.</li>\n",
    "    <li><b>Oldpeak:</b> \"Oldpeak\" is non-normal, with a clear skewed distribution and potential floor effects (values near 0).</li>\n",
    "    <li><b>FastingBS (Fasting Blood Sugar):</b> \"FastingBS\" clearly does not follow a normal distribution.</li>\n",
    "</ul>\n",
    "\n",
    "</div>\n"
   ]
  },
  {
   "cell_type": "markdown",
   "id": "a92e2562",
   "metadata": {
    "papermill": {
     "duration": 0.067112,
     "end_time": "2024-12-11T17:47:03.380579",
     "exception": false,
     "start_time": "2024-12-11T17:47:03.313467",
     "status": "completed"
    },
    "tags": []
   },
   "source": [
    "<a id=\"4.2\"></a><div style=\"text-align: center; background: #007BFF; font-family: 'Verdana', sans-serif; color: white; padding: 18px; font-size: 24px; font-weight: 600; line-height: 1.3; border-radius: 20px; margin-bottom: 25px; box-shadow: 0px 4px 4px rgba(0, 0, 0, 0.1);\">Shapiro-Wild Test</div>\n"
   ]
  },
  {
   "cell_type": "code",
   "execution_count": null,
   "id": "51cc5447",
   "metadata": {
    "execution": {
     "iopub.execute_input": "2024-12-11T17:47:03.518677Z",
     "iopub.status.busy": "2024-12-11T17:47:03.518148Z",
     "iopub.status.idle": "2024-12-11T17:47:03.796536Z",
     "shell.execute_reply": "2024-12-11T17:47:03.795018Z"
    },
    "id": "xXLbU5VMX3Lb",
    "outputId": "f446830a-0bfa-43a3-d63f-fe536f5710f8",
    "papermill": {
     "duration": 0.35077,
     "end_time": "2024-12-11T17:47:03.799153",
     "exception": false,
     "start_time": "2024-12-11T17:47:03.448383",
     "status": "completed"
    },
    "tags": []
   },
   "outputs": [],
   "source": [
    "shapiro_wilk_results = pd.DataFrame(columns=[\"Variable\", \"Test Statistic\", \"p-value\"])\n",
    "for feature in numerical_data.columns:\n",
    "    data = df[feature]\n",
    "    statistic, p_value = stats.shapiro(data)\n",
    "    temp_df = pd.DataFrame({\"Variable\": [feature], \"Test Statistic\": [statistic], \"p-value\": [p_value]})\n",
    "    shapiro_wilk_results = pd.concat([shapiro_wilk_results, temp_df], ignore_index=True)\n",
    "fig, ax = plt.subplots(figsize=(8, 5))\n",
    "barplot = sns.barplot(data=shapiro_wilk_results, x=\"Variable\", y=\"p-value\", edgecolor=\"black\", alpha=0.8)\n",
    "ax.set_xlabel(\"Variable\")\n",
    "ax.set_ylabel(\"p-value\")\n",
    "ax.set_title(\"Shapiro-Wilk Test Results\")\n",
    "for p in barplot.patches:\n",
    "    height = p.get_height()\n",
    "    ax.text(p.get_x() + p.get_width() / 2, height, f\"{height:.3f}\", ha=\"center\", va=\"bottom\")\n",
    "plt.tight_layout()\n",
    "plt.show()\n",
    "display(shapiro_wilk_results)\n"
   ]
  },
  {
   "cell_type": "markdown",
   "id": "b92c55cf",
   "metadata": {
    "papermill": {
     "duration": 0.067514,
     "end_time": "2024-12-11T17:47:03.936177",
     "exception": false,
     "start_time": "2024-12-11T17:47:03.868663",
     "status": "completed"
    },
    "tags": []
   },
   "source": [
    "<a id=\"key-observations\"></a>\n",
    "<div style=\"text-align: center; background: #009688; font-family: 'Trebuchet MS', Arial, sans-serif; color: white; padding: 15px; font-size: 22px; font-weight: bold; border-radius: 8px; margin-bottom: 15px; box-shadow: 0px 4px 6px rgba(0, 0, 0, 0.1);\">\n",
    "    🔑 Key Observations: p-value Interpretation\n",
    "</div>\n",
    "\n",
    "<div style=\"font-family: 'Arial', sans-serif; font-size: 16px; line-height: 1.8; background: #f9f9f9; padding: 15px; border-radius: 8px; border: 1px solid #ddd; box-shadow: 0px 2px 4px rgba(0, 0, 0, 0.1);\">\n",
    "\n",
    "<ul style=\"list-style-type: decimal; padding-left: 20px;\">\n",
    "    <li><b>p-value Interpretation:</b>\n",
    "        <ul style=\"list-style-type: square; padding-left: 20px;\">\n",
    "            <li>A p-value < 0.05 indicates that the null hypothesis (data is normally distributed) is rejected, meaning the variable does not follow a normal distribution.</li>\n",
    "            <li>A p-value ≥ 0.05 suggests the variable may follow a normal distribution.</li>\n",
    "        </ul>\n",
    "    </li>\n",
    "    <li><b>Age (p-value = 0.007):</b> The p-value is slightly below 0.05, so Age does not follow a perfect normal distribution.</li>\n",
    "    <li><b>RestingBP (p-value ≈ 0):</b> The p-value is extremely low, indicating a strong departure from normality. Consider log transformation or normalization to handle the skewness.</li>\n",
    "    <li><b>Cholesterol (p-value = 0.002):</b> The variable is not normally distributed.</li>\n",
    "    <li><b>FastingBS (p-value ≈ 0):</b> This variable is binary, so a normality test isn’t meaningful here.</li>\n",
    "    <li><b>MaxHR (p-value = 0.000035):</b> The variable is not normally distributed.</li>\n",
    "    <li><b>Oldpeak (p-value ≈ 0):</b> The data strongly deviates from normality.</li>\n",
    "</ul>\n",
    "\n",
    "</div>\n"
   ]
  },
  {
   "cell_type": "markdown",
   "id": "9207c197",
   "metadata": {
    "papermill": {
     "duration": 0.068038,
     "end_time": "2024-12-11T17:47:04.073372",
     "exception": false,
     "start_time": "2024-12-11T17:47:04.005334",
     "status": "completed"
    },
    "tags": []
   },
   "source": [
    "<a id=\"4.1\"></a><div style=\"text-align: center; background: #007BFF; font-family: 'Verdana', sans-serif; color: white; padding: 18px; font-size: 24px; font-weight: 600; line-height: 1.3; border-radius: 20px; margin-bottom: 25px; box-shadow: 0px 4px 4px rgba(0, 0, 0, 0.1);\">Bi-Variate Analysis</div>\n"
   ]
  },
  {
   "cell_type": "markdown",
   "id": "1b0e07d5",
   "metadata": {
    "papermill": {
     "duration": 0.07044,
     "end_time": "2024-12-11T17:47:04.212321",
     "exception": false,
     "start_time": "2024-12-11T17:47:04.141881",
     "status": "completed"
    },
    "tags": []
   },
   "source": [
    "<a id=\"continuous_vs_target\"></a>\n",
    "<div style=\"text-align: center; background: #009688; font-family: 'Trebuchet MS', Arial, sans-serif; color: white; padding: 15px; font-size: 15px; font-weight: bold; border-radius: 10px; margin-bottom: 20px; box-shadow: 0px 4px 6px rgba(0, 0, 0, 0.1);\">\n",
    "    📊 How Continuous Variables Vary in Relation to the Target Variable\n",
    "</div>"
   ]
  },
  {
   "cell_type": "code",
   "execution_count": null,
   "id": "92daa96c",
   "metadata": {
    "execution": {
     "iopub.execute_input": "2024-12-11T17:47:04.351044Z",
     "iopub.status.busy": "2024-12-11T17:47:04.350524Z",
     "iopub.status.idle": "2024-12-11T17:47:08.484111Z",
     "shell.execute_reply": "2024-12-11T17:47:08.482502Z"
    },
    "id": "CilPYKAfCLea",
    "outputId": "c7133f8e-678f-4e48-ae42-16c32db17eb2",
    "papermill": {
     "duration": 4.207731,
     "end_time": "2024-12-11T17:47:08.488110",
     "exception": false,
     "start_time": "2024-12-11T17:47:04.280379",
     "status": "completed"
    },
    "tags": []
   },
   "outputs": [],
   "source": [
    "# Number of numerical columns\n",
    "numerical_columns = numerical_data.columns.tolist()\n",
    "num_cols = len(numerical_columns)\n",
    "\n",
    "# Set the number of rows and columns for the subplots grid\n",
    "rows = (num_cols // 2) + (num_cols % 2)  # 2 columns per row\n",
    "cols = 2\n",
    "\n",
    "# Create a figure for the subplots\n",
    "fig, axes = plt.subplots(rows, cols, figsize=(16, 4 * rows))  # Adjust figure size\n",
    "axes = axes.flatten()  # Flatten axes for easy indexing\n",
    "\n",
    "# Loop through each numerical column and plot in a subplot\n",
    "for idx, col in enumerate(numerical_columns):\n",
    "    sns.kdeplot(data=df, x=col, hue='HeartDisease', fill=True, ax=axes[idx], alpha=0.6)\n",
    "    axes[idx].set_title(f\"Distribution of {col} by HeartDisease\")\n",
    "    axes[idx].legend(title=\"Category\", labels=['Positive', 'Negative'])\n",
    "    axes[idx].set_xlabel(col)\n",
    "    axes[idx].set_ylabel(\"Density\")\n",
    "\n",
    "# Remove unused subplots\n",
    "for i in range(len(numerical_columns), len(axes)):\n",
    "    fig.delaxes(axes[i])\n",
    "\n",
    "# Adjust layout\n",
    "plt.savefig('Looking feature Insights.png', dpi=300, bbox_inches='tight')  # Save as PNG\n",
    "\n",
    "plt.tight_layout()\n",
    "plt.show()"
   ]
  },
  {
   "cell_type": "markdown",
   "id": "8f80d6ba",
   "metadata": {
    "papermill": {
     "duration": 0.072426,
     "end_time": "2024-12-11T17:47:08.633946",
     "exception": false,
     "start_time": "2024-12-11T17:47:08.561520",
     "status": "completed"
    },
    "tags": []
   },
   "source": [
    "<a id=\"takeaways\"></a>\n",
    "<div style=\"text-align: center; background: #009688; font-family: 'Trebuchet MS', Arial, sans-serif; color: white; padding: 15px; font-size: 22px; font-weight: bold; border-radius: 8px; margin-bottom: 15px; box-shadow: 0px 4px 6px rgba(0, 0, 0, 0.1);\">\n",
    "    🔑 Key Takeaways\n",
    "</div>\n",
    "\n",
    "<div style=\"font-family: 'Arial', sans-serif; font-size: 16px; line-height: 1.8; background: #f9f9f9; padding: 15px; border-radius: 8px; border: 1px solid #ddd; box-shadow: 0px 2px 4px rgba(0, 0, 0, 0.1);\">\n",
    "\n",
    "<ul style=\"list-style-type: disc; padding-left: 20px;\">\n",
    "    <li><b>The distributions for heart disease positive and negative groups overlap,</b> but the positive group peaks at a slightly higher age.</li>\n",
    "    <li><b>Lower maximum heart rates</b> are associated with heart disease, suggesting it could be a strong predictor.</li>\n",
    "    <li><b>Higher \"Oldpeak\" values</b> are strongly associated with heart disease, making it a potentially important feature.</li>\n",
    "    <li><b>FastingBS shows a strong association with heart disease status,</b> as the distributions between the groups differ significantly. Individuals with higher fasting blood sugar (value = 1) are more likely to have heart disease.</li>\n",
    "    <li><b>RestingBP shows overlap,</b> indicating limited predictive power alone but potential value in combination with other features.</li>\n",
    "    <li><b>Cholesterol needs careful handling</b> due to the abundance of zero values.</li>\n",
    "</ul>\n",
    "\n",
    "</div>\n"
   ]
  },
  {
   "cell_type": "markdown",
   "id": "532fe5a4",
   "metadata": {
    "id": "o9ChPoLV1GX-",
    "papermill": {
     "duration": 0.073843,
     "end_time": "2024-12-11T17:47:08.782154",
     "exception": false,
     "start_time": "2024-12-11T17:47:08.708311",
     "status": "completed"
    },
    "tags": []
   },
   "source": [
    "<a id=\"continuous_vs_target\"></a>\n",
    "<div style=\"text-align: center; background: #009688; font-family: 'Trebuchet MS', Arial, sans-serif; color: white; padding: 15px; font-size: 15px; font-weight: bold; border-radius: 10px; margin-bottom: 20px; box-shadow: 0px 4px 6px rgba(0, 0, 0, 0.1);\">\n",
    "    📊 How mean of features relate with heart disease ??</div>"
   ]
  },
  {
   "cell_type": "code",
   "execution_count": null,
   "id": "ad98341c",
   "metadata": {
    "execution": {
     "iopub.execute_input": "2024-12-11T17:47:08.933782Z",
     "iopub.status.busy": "2024-12-11T17:47:08.933294Z",
     "iopub.status.idle": "2024-12-11T17:47:08.942496Z",
     "shell.execute_reply": "2024-12-11T17:47:08.941282Z"
    },
    "id": "3xlvDUhY-adm",
    "papermill": {
     "duration": 0.087536,
     "end_time": "2024-12-11T17:47:08.945015",
     "exception": false,
     "start_time": "2024-12-11T17:47:08.857479",
     "status": "completed"
    },
    "tags": []
   },
   "outputs": [],
   "source": [
    "positive = df[df[\"HeartDisease\"] == 1]\n",
    "negative = df[df[\"HeartDisease\"] == 0]"
   ]
  },
  {
   "cell_type": "code",
   "execution_count": null,
   "id": "f8e8ea7f",
   "metadata": {
    "execution": {
     "iopub.execute_input": "2024-12-11T17:47:09.096868Z",
     "iopub.status.busy": "2024-12-11T17:47:09.096373Z",
     "iopub.status.idle": "2024-12-11T17:47:10.325169Z",
     "shell.execute_reply": "2024-12-11T17:47:10.323572Z"
    },
    "id": "XQ2HnqnG1bRO",
    "outputId": "c7fc0c44-d187-40d6-913c-6810f942b206",
    "papermill": {
     "duration": 1.306944,
     "end_time": "2024-12-11T17:47:10.327692",
     "exception": false,
     "start_time": "2024-12-11T17:47:09.020748",
     "status": "completed"
    },
    "tags": []
   },
   "outputs": [],
   "source": [
    "fig, axes = plt.subplots(3, 2, figsize=(10, 12))\n",
    "\n",
    "# Flatten axes for easier iteration\n",
    "axes = axes.flatten()\n",
    "\n",
    "# Looping through each feature\n",
    "for i, feature in enumerate(numerical_data):\n",
    "    avg_heart_failure = positive[feature].mean()\n",
    "    avg_non_heart_failure = negative[feature].mean()\n",
    "\n",
    "    # Creating the bar chart for the current feature\n",
    "    sns.barplot(\n",
    "        x=[\"Heart Disease\", \"Non-Heart Disease\"],\n",
    "        y=[avg_heart_failure, avg_non_heart_failure],\n",
    "        ax=axes[i],\n",
    "        edgecolor=\"black\",\n",
    "        alpha=0.8,\n",
    "    )\n",
    "    axes[i].set_ylabel(f\"Average {feature}\")\n",
    "    axes[i].set_title(f\"Average {feature} for Heart Disease vs Non-Heart Disease\")\n",
    "\n",
    "    # Adding annotations above the bars\n",
    "    axes[i].annotate(\n",
    "        f\"{avg_heart_failure:.1f}\",\n",
    "        xy=(0, avg_heart_failure),\n",
    "        xytext=(0, avg_heart_failure + 1),\n",
    "        ha=\"center\",\n",
    "        va=\"bottom\",\n",
    "        fontsize=9,\n",
    "        color=\"black\",\n",
    "    )\n",
    "    axes[i].annotate(\n",
    "        f\"{avg_non_heart_failure:.1f}\",\n",
    "        xy=(1, avg_non_heart_failure),\n",
    "        xytext=(1, avg_non_heart_failure + 1),\n",
    "        ha=\"center\",\n",
    "        va=\"bottom\",\n",
    "        fontsize=9,\n",
    "        color=\"black\",\n",
    "    )\n",
    "\n",
    "# Remove unused subplots if any\n",
    "if len(numerical_data) % 2 != 0:\n",
    "    fig.delaxes(axes[-1])\n",
    "\n",
    "# Adjust layout and spacing\n",
    "plt.tight_layout()\n",
    "plt.show()"
   ]
  },
  {
   "cell_type": "markdown",
   "id": "6e3ddaf5",
   "metadata": {
    "id": "INJGX4Z_D5Pb",
    "papermill": {
     "duration": 0.080288,
     "end_time": "2024-12-11T17:47:10.491056",
     "exception": false,
     "start_time": "2024-12-11T17:47:10.410768",
     "status": "completed"
    },
    "tags": []
   },
   "source": [
    "<a id=\"5\"></a>\n",
    "<div style=\"text-align: center; background: #22177A; font-family: 'Verdana', sans-serif; color: white; padding: 15px; font-size: 28px; font-weight: bold; line-height: 1.2; border-radius: 10px; margin-bottom: 20px; box-shadow: 0px 4px 8px rgba(0, 0, 0, 0.15);\"> 🧩Feature Engineering And Scaling🧩</div>\n"
   ]
  },
  {
   "cell_type": "markdown",
   "id": "dbc681ae",
   "metadata": {
    "papermill": {
     "duration": 0.082273,
     "end_time": "2024-12-11T17:47:10.655599",
     "exception": false,
     "start_time": "2024-12-11T17:47:10.573326",
     "status": "completed"
    },
    "tags": []
   },
   "source": [
    "<a id=\"5.1\"></a><div style=\"text-align: center; background: #007BFF; font-family: 'Verdana', sans-serif; color: white; padding: 18px; font-size: 24px; font-weight: 600; line-height: 1.3; border-radius: 20px; margin-bottom: 25px; box-shadow: 0px 4px 4px rgba(0, 0, 0, 0.1);\">Feature-Scaling</div>\n"
   ]
  },
  {
   "cell_type": "code",
   "execution_count": null,
   "id": "63f07b0b",
   "metadata": {
    "execution": {
     "iopub.execute_input": "2024-12-11T17:47:10.822258Z",
     "iopub.status.busy": "2024-12-11T17:47:10.821808Z",
     "iopub.status.idle": "2024-12-11T17:47:10.854584Z",
     "shell.execute_reply": "2024-12-11T17:47:10.853412Z"
    },
    "id": "YUlhmgREba_C",
    "papermill": {
     "duration": 0.119821,
     "end_time": "2024-12-11T17:47:10.857545",
     "exception": false,
     "start_time": "2024-12-11T17:47:10.737724",
     "status": "completed"
    },
    "tags": []
   },
   "outputs": [],
   "source": [
    "copy_df = df.copy(deep=True)\n",
    "min_max_scaler = MinMaxScaler()\n",
    "standard_scaler = StandardScaler()\n",
    "for i in numerical_data.columns.tolist() :\n",
    "  min_max_scaler_df = min_max_scaler.fit_transform(copy_df[[i]])\n",
    "  standard_scaler_df = standard_scaler.fit_transform(min_max_scaler_df)\n",
    "  copy_df[i] = standard_scaler_df.flatten()\n",
    "\n",
    "df= copy_df"
   ]
  },
  {
   "cell_type": "code",
   "execution_count": null,
   "id": "f4eb531b",
   "metadata": {
    "execution": {
     "iopub.execute_input": "2024-12-11T17:47:11.024972Z",
     "iopub.status.busy": "2024-12-11T17:47:11.024568Z",
     "iopub.status.idle": "2024-12-11T17:47:11.042101Z",
     "shell.execute_reply": "2024-12-11T17:47:11.040848Z"
    },
    "id": "tXsYvhlXwvF2",
    "outputId": "d3d42eb4-0c39-4edd-8589-dea45f30448a",
    "papermill": {
     "duration": 0.104178,
     "end_time": "2024-12-11T17:47:11.044352",
     "exception": false,
     "start_time": "2024-12-11T17:47:10.940174",
     "status": "completed"
    },
    "tags": []
   },
   "outputs": [],
   "source": [
    "df.head()"
   ]
  },
  {
   "cell_type": "markdown",
   "id": "bc9bdeca",
   "metadata": {
    "id": "vHfI0w1KevYp",
    "papermill": {
     "duration": 0.08424,
     "end_time": "2024-12-11T17:47:11.213669",
     "exception": false,
     "start_time": "2024-12-11T17:47:11.129429",
     "status": "completed"
    },
    "tags": []
   },
   "source": [
    "<a id=\"5.2\"></a><div style=\"text-align: center; background: #007BFF; font-family: 'Verdana', sans-serif; color: white; padding: 18px; font-size: 24px; font-weight: 600; line-height: 1.3; border-radius: 20px; margin-bottom: 25px; box-shadow: 0px 4px 4px rgba(0, 0, 0, 0.1);\">Categorical Data Encoding</div>"
   ]
  },
  {
   "cell_type": "code",
   "execution_count": null,
   "id": "0a3e36a4",
   "metadata": {
    "execution": {
     "iopub.execute_input": "2024-12-11T17:47:11.391347Z",
     "iopub.status.busy": "2024-12-11T17:47:11.390985Z",
     "iopub.status.idle": "2024-12-11T17:47:11.414364Z",
     "shell.execute_reply": "2024-12-11T17:47:11.412776Z"
    },
    "id": "LPQ1yf-Ke7Lb",
    "outputId": "662413e7-ff78-4e9a-aaa6-ba0f6bd871e1",
    "papermill": {
     "duration": 0.109217,
     "end_time": "2024-12-11T17:47:11.417062",
     "exception": false,
     "start_time": "2024-12-11T17:47:11.307845",
     "status": "completed"
    },
    "tags": []
   },
   "outputs": [],
   "source": [
    "from sklearn.preprocessing  import LabelEncoder\n",
    "encoder = LabelEncoder()\n",
    "\n",
    "for i in categorical_data.columns.tolist():\n",
    "  copy_df[i] = encoder.fit_transform(copy_df[i])\n",
    "\n",
    "copy_df"
   ]
  },
  {
   "cell_type": "markdown",
   "id": "47ad957b",
   "metadata": {
    "id": "NZ7Ae3Gqf_xY",
    "papermill": {
     "duration": 0.080909,
     "end_time": "2024-12-11T17:47:11.580681",
     "exception": false,
     "start_time": "2024-12-11T17:47:11.499772",
     "status": "completed"
    },
    "tags": []
   },
   "source": [
    "<a id=\"6\"></a>\n",
    "<div style=\"text-align: center; background: #22177A; font-family: 'Verdana', sans-serif; color: white; padding: 15px; font-size: 28px; font-weight: bold; line-height: 1.2; border-radius: 10px; margin-bottom: 20px; box-shadow: 0px 4px 8px rgba(0, 0, 0, 0.15);\"> 🧩Feature Importance Analysis Using Inferential Statistics🧩</div>"
   ]
  },
  {
   "cell_type": "markdown",
   "id": "5ce84e38",
   "metadata": {
    "papermill": {
     "duration": 0.082721,
     "end_time": "2024-12-11T17:47:11.747367",
     "exception": false,
     "start_time": "2024-12-11T17:47:11.664646",
     "status": "completed"
    },
    "tags": []
   },
   "source": [
    "<a id=\"6.1\"></a><div style=\"text-align: center; background: #007BFF; font-family: 'Verdana', sans-serif; color: white; padding: 18px; font-size: 24px; font-weight: 600; line-height: 1.3; border-radius: 20px; margin-bottom: 25px; box-shadow: 0px 4px 4px rgba(0, 0, 0, 0.1);\">ANOVA</div>"
   ]
  },
  {
   "cell_type": "code",
   "execution_count": null,
   "id": "98f6ae5f",
   "metadata": {
    "execution": {
     "iopub.execute_input": "2024-12-11T17:47:11.915556Z",
     "iopub.status.busy": "2024-12-11T17:47:11.915088Z",
     "iopub.status.idle": "2024-12-11T17:47:12.741052Z",
     "shell.execute_reply": "2024-12-11T17:47:12.739714Z"
    },
    "id": "BwNDnkQ4kKl8",
    "papermill": {
     "duration": 0.913206,
     "end_time": "2024-12-11T17:47:12.743989",
     "exception": false,
     "start_time": "2024-12-11T17:47:11.830783",
     "status": "completed"
    },
    "tags": []
   },
   "outputs": [],
   "source": [
    "from sklearn.feature_selection import SelectKBest, f_classif\n",
    "import os\n",
    "continuous_feature_names= numerical_data.columns.tolist()"
   ]
  },
  {
   "cell_type": "code",
   "execution_count": null,
   "id": "f07b5cff",
   "metadata": {
    "execution": {
     "iopub.execute_input": "2024-12-11T17:47:12.912895Z",
     "iopub.status.busy": "2024-12-11T17:47:12.912410Z",
     "iopub.status.idle": "2024-12-11T17:47:12.937258Z",
     "shell.execute_reply": "2024-12-11T17:47:12.935786Z"
    },
    "id": "NCOa8n12ql0o",
    "outputId": "3a980c3a-0c0d-4d4c-fd4e-eb3f3ebe1793",
    "papermill": {
     "duration": 0.112373,
     "end_time": "2024-12-11T17:47:12.940122",
     "exception": false,
     "start_time": "2024-12-11T17:47:12.827749",
     "status": "completed"
    },
    "tags": []
   },
   "outputs": [],
   "source": [
    "selector = SelectKBest(score_func = f_classif , k='all')\n",
    "fit = selector.fit(copy_df[numerical_data.columns.tolist()],copy_df['HeartDisease'])\n",
    "anova_score = pd.DataFrame(data = fit.scores_ , index = numerical_data.columns.tolist() , columns = ['F-value'])\n",
    "anova_score['p-value'] = fit.pvalues_\n",
    "anova_score['significant'] = anova_score['p-value'] < 0.05\n",
    "anova_score = anova_score.sort_values(by = 'F-value', ascending = False)\n",
    "anova_score"
   ]
  },
  {
   "cell_type": "code",
   "execution_count": null,
   "id": "75107f4a",
   "metadata": {
    "execution": {
     "iopub.execute_input": "2024-12-11T17:47:13.106662Z",
     "iopub.status.busy": "2024-12-11T17:47:13.106179Z",
     "iopub.status.idle": "2024-12-11T17:47:13.718414Z",
     "shell.execute_reply": "2024-12-11T17:47:13.717125Z"
    },
    "id": "X3WNjYj6f_bi",
    "outputId": "f8af75c2-d41c-46b6-acdc-4df5a0adec48",
    "papermill": {
     "duration": 0.698165,
     "end_time": "2024-12-11T17:47:13.721188",
     "exception": false,
     "start_time": "2024-12-11T17:47:13.023023",
     "status": "completed"
    },
    "tags": []
   },
   "outputs": [],
   "source": [
    "fig, ax = plt.subplots(1, 1, figsize=(6, 4))\n",
    "barplot = sns.barplot(x=anova_score.index, y=anova_score[\"F-value\"], palette=\"viridis\", edgecolor=\"black\", alpha=0.8)\n",
    "ax.set_title(\"Importance of Continuous Feature Based on ANOVA F-value\")\n",
    "ax.set_xlabel(\"Features\")\n",
    "ax.set_ylabel('ANOVA F-value')\n",
    "\n",
    "for i, (p_value, f_value) in enumerate(zip(anova_score['p-value'], anova_score[\"F-value\"])):\n",
    "    barplot.text(i, 15, f'F={f_value:.1f}', color='black', ha='center')\n",
    "    barplot.text(i, 2, f'p={p_value:.3f}', color='black', ha='center')\n",
    "os.makedirs(\"visualizations\", exist_ok=True)\n",
    "plt.savefig(os.path.join(\"visualizations\", \"ANOVA_results.png\"), dpi=300)\n",
    "plt.show()"
   ]
  },
  {
   "cell_type": "markdown",
   "id": "d0c3f508",
   "metadata": {
    "papermill": {
     "duration": 0.081692,
     "end_time": "2024-12-11T17:47:13.886922",
     "exception": false,
     "start_time": "2024-12-11T17:47:13.805230",
     "status": "completed"
    },
    "tags": []
   },
   "source": [
    "<a id=\"insights\"></a>\n",
    "<div style=\"text-align: center; background: #009688; font-family: 'Trebuchet MS', Arial, sans-serif; color: white; padding: 15px; font-size: 22px; font-weight: bold; border-radius: 8px; margin-bottom: 15px; box-shadow: 0px 4px 6px rgba(0, 0, 0, 0.1);\">\n",
    "    🔑 Insights\n",
    "</div>\n",
    "\n",
    "<div style=\"font-family: 'Arial', sans-serif; font-size: 16px; line-height: 1.8; background: #f9f9f9; padding: 15px; border-radius: 8px; border: 1px solid #ddd; box-shadow: 0px 2px 4px rgba(0, 0, 0, 0.1);\">\n",
    "\n",
    "<ul style=\"list-style-type: disc; padding-left: 20px;\">\n",
    "    <li><b>All Continuous Variables</b> have a significant effect on the target variable.</li>\n",
    "</ul>\n",
    "\n",
    "</div>\n"
   ]
  },
  {
   "cell_type": "markdown",
   "id": "5f926960",
   "metadata": {
    "papermill": {
     "duration": 0.084977,
     "end_time": "2024-12-11T17:47:14.055536",
     "exception": false,
     "start_time": "2024-12-11T17:47:13.970559",
     "status": "completed"
    },
    "tags": []
   },
   "source": [
    "<a id=\"6.2\"></a><div style=\"text-align: center; background: #007BFF; font-family: 'Verdana', sans-serif; color: white; padding: 18px; font-size: 24px; font-weight: 600; line-height: 1.3; border-radius: 20px; margin-bottom: 25px; box-shadow: 0px 4px 4px rgba(0, 0, 0, 0.1);\">Chi-Squared Test</div>"
   ]
  },
  {
   "cell_type": "code",
   "execution_count": null,
   "id": "deac2673",
   "metadata": {
    "execution": {
     "iopub.execute_input": "2024-12-11T17:47:14.233738Z",
     "iopub.status.busy": "2024-12-11T17:47:14.233324Z",
     "iopub.status.idle": "2024-12-11T17:47:15.122996Z",
     "shell.execute_reply": "2024-12-11T17:47:15.121697Z"
    },
    "id": "vWJZ07KryRbe",
    "outputId": "e0b48d0f-cc4d-4d07-975f-70e532b2b980",
    "papermill": {
     "duration": 0.984538,
     "end_time": "2024-12-11T17:47:15.126353",
     "exception": false,
     "start_time": "2024-12-11T17:47:14.141815",
     "status": "completed"
    },
    "tags": []
   },
   "outputs": [],
   "source": [
    "categorical_feature_names= categorical_data.columns.tolist()\n",
    "chisquare_scores = pd.DataFrame(index=categorical_data.columns.tolist(), columns=[\"Chi-Squared Score\", \"p-value\", \"Degrees of Freedom\"])\n",
    "for feature in categorical_feature_names:\n",
    "    contingency_table = pd.crosstab(df[feature], df[\"HeartDisease\"])\n",
    "    chi2, p, dof, _ = stats.chi2_contingency(contingency_table)\n",
    "\n",
    "    chisquare_scores.loc[feature, \"Chi-Squared Score\"] = chi2\n",
    "    chisquare_scores.loc[feature, \"p-value\"] = p\n",
    "    chisquare_scores.loc[feature, \"Degrees of Freedom\"] = dof\n",
    "\n",
    "chisquare_scores[\"significant\"] = chisquare_scores[\"p-value\"] < 0.05\n",
    "chisquare_scores = chisquare_scores.sort_values(by=\"Chi-Squared Score\", ascending=False)\n",
    "\n",
    "\n",
    "\n",
    "fig, ax = plt.subplots(1, 1, figsize=(7.2, 4))\n",
    "barplot = sns.barplot(x=chisquare_scores.index, y=chisquare_scores[\"Chi-Squared Score\"], palette=\"viridis\", ax=ax, edgecolor=\"black\", alpha=0.8)\n",
    "ax.set_title(\"Categorical Feature Importance Based on Chi-Squared Score\")\n",
    "ax.set_xlabel(\"Features\")\n",
    "ax.set_ylabel(\"Chi-Squared Score\")\n",
    "\n",
    "# Annotate each bar with its Chi-Squared score and p-value\n",
    "for i, (p_value, chi2_score) in enumerate(zip(chisquare_scores[\"p-value\"], chisquare_scores[\"Chi-Squared Score\"])):\n",
    "    chi2_str = f'$\\chi^2$={chi2_score:.1f}'  # Chi-squared symbol with exponent using LaTeX\n",
    "    barplot.text(i, 40, chi2_str, color=\"black\", ha=\"center\")\n",
    "    barplot.text(i, 18, f\"p={p_value:.3f}\", color=\"black\", ha=\"center\")\n",
    "\n",
    "plt.tight_layout()\n",
    "plt.savefig(os.path.join(\"visualizations\", \"chi_sq_results.png\"), dpi=300)\n",
    "plt.show()\n",
    "\n",
    "chisquare_scores"
   ]
  },
  {
   "cell_type": "markdown",
   "id": "f24ec205",
   "metadata": {
    "papermill": {
     "duration": 0.106406,
     "end_time": "2024-12-11T17:47:15.330814",
     "exception": false,
     "start_time": "2024-12-11T17:47:15.224408",
     "status": "completed"
    },
    "tags": []
   },
   "source": [
    "<a id=\"chi_squared_takeaways\"></a>\n",
    "<div style=\"text-align: center; background: #009688; font-family: 'Trebuchet MS', Arial, sans-serif; color: white; padding: 15px; font-size: 22px; font-weight: bold; border-radius: 8px; margin-bottom: 15px; box-shadow: 0px 4px 6px rgba(0, 0, 0, 0.1);\">\n",
    "    📊 Chi-Squared Test Takeaways\n",
    "</div>\n",
    "\n",
    "<div style=\"font-family: 'Arial', sans-serif; font-size: 16px; line-height: 1.8; background: #f9f9f9; padding: 15px; border-radius: 8px; border: 1px solid #ddd; box-shadow: 0px 2px 4px rgba(0, 0, 0, 0.1);\">\n",
    "\n",
    "<ul style=\"list-style-type: disc; padding-left: 20px;\">\n",
    "    <li><b>All categorical variables</b> have a significant effect on the target variable.</li>\n",
    "    <li><b>Resting ECG</b> has a p-value that is not much below 0.05, suggesting it could be removed from the model despite being statistically significant. If I were to remove any feature, this would be the best candidate.</li>\n",
    "</ul>\n",
    "\n",
    "</div>\n"
   ]
  },
  {
   "cell_type": "markdown",
   "id": "fea598c6",
   "metadata": {
    "id": "6Uq2CceH3mGk",
    "papermill": {
     "duration": 0.09247,
     "end_time": "2024-12-11T17:47:15.511285",
     "exception": false,
     "start_time": "2024-12-11T17:47:15.418815",
     "status": "completed"
    },
    "tags": []
   },
   "source": [
    "<a id=\"7\"></a>\n",
    "<div style=\"text-align: center; background: #22177A; font-family: 'Verdana', sans-serif; color: white; padding: 15px; font-size: 28px; font-weight: bold; line-height: 1.2; border-radius: 10px; margin-bottom: 20px; box-shadow: 0px 4px 8px rgba(0, 0, 0, 0.15);\"> 🧩Model-Building🧩</div>"
   ]
  },
  {
   "cell_type": "code",
   "execution_count": null,
   "id": "36bbec0d",
   "metadata": {
    "execution": {
     "iopub.execute_input": "2024-12-11T17:47:15.706493Z",
     "iopub.status.busy": "2024-12-11T17:47:15.705358Z",
     "iopub.status.idle": "2024-12-11T17:47:15.712171Z",
     "shell.execute_reply": "2024-12-11T17:47:15.710751Z"
    },
    "id": "lbQWKYsA4ft_",
    "papermill": {
     "duration": 0.100139,
     "end_time": "2024-12-11T17:47:15.715061",
     "exception": false,
     "start_time": "2024-12-11T17:47:15.614922",
     "status": "completed"
    },
    "tags": []
   },
   "outputs": [],
   "source": [
    "from sklearn.model_selection import train_test_split\n",
    "from sklearn.metrics import accuracy_score, precision_score , f1_score, recall_score ,classification_report, confusion_matrix"
   ]
  },
  {
   "cell_type": "code",
   "execution_count": null,
   "id": "7b1a7ce0",
   "metadata": {
    "execution": {
     "iopub.execute_input": "2024-12-11T17:47:15.892727Z",
     "iopub.status.busy": "2024-12-11T17:47:15.892301Z",
     "iopub.status.idle": "2024-12-11T17:47:15.905981Z",
     "shell.execute_reply": "2024-12-11T17:47:15.904717Z"
    },
    "id": "A6jXFFft4VvQ",
    "papermill": {
     "duration": 0.100171,
     "end_time": "2024-12-11T17:47:15.908507",
     "exception": false,
     "start_time": "2024-12-11T17:47:15.808336",
     "status": "completed"
    },
    "tags": []
   },
   "outputs": [],
   "source": [
    "X= copy_df.drop('HeartDisease',axis=1)\n",
    "y= copy_df['HeartDisease']\n",
    "x_train, x_test, y_train, y_test = train_test_split(X,y, test_size=0.2, random_state=1)"
   ]
  },
  {
   "cell_type": "code",
   "execution_count": null,
   "id": "6408e585",
   "metadata": {
    "execution": {
     "iopub.execute_input": "2024-12-11T17:47:16.074976Z",
     "iopub.status.busy": "2024-12-11T17:47:16.074465Z",
     "iopub.status.idle": "2024-12-11T17:47:16.084488Z",
     "shell.execute_reply": "2024-12-11T17:47:16.083274Z"
    },
    "id": "oCVn7m0g9no3",
    "papermill": {
     "duration": 0.096576,
     "end_time": "2024-12-11T17:47:16.087012",
     "exception": false,
     "start_time": "2024-12-11T17:47:15.990436",
     "status": "completed"
    },
    "tags": []
   },
   "outputs": [],
   "source": [
    "def result(y_true , y_pred , models_df , name):\n",
    "  cm = confusion_matrix(y_true, y_pred )\n",
    "  TP = cm[1][1]\n",
    "  TN = cm[0][0]\n",
    "  FP = cm[0][1]\n",
    "  FN = cm[1][0]\n",
    "\n",
    "  accuracy = accuracy_score(y_true, y_pred)\n",
    "  precision = precision_score(y_true, y_pred)\n",
    "  recall = recall_score(y_true, y_pred)\n",
    "  f1 = f1_score(y_true, y_pred)\n",
    "  specificity = TN / (TN + FP) if (TN + FP) > 0 else 0\n",
    "\n",
    "  ans = pd.DataFrame({\"experiment_name\": [name], \"predictions\": [y_pred.tolist()], \"accuracy\": [accuracy],\n",
    "         \"precision\": [precision], \"recall\": [recall], \"f1\": [f1], \"specificity\": [specificity],\n",
    "                                                    \"confusion_matrix\": [cm]})\n",
    "  return ans;"
   ]
  },
  {
   "cell_type": "code",
   "execution_count": null,
   "id": "44d5ffb6",
   "metadata": {
    "execution": {
     "iopub.execute_input": "2024-12-11T17:47:16.253237Z",
     "iopub.status.busy": "2024-12-11T17:47:16.252789Z",
     "iopub.status.idle": "2024-12-11T17:47:16.260448Z",
     "shell.execute_reply": "2024-12-11T17:47:16.258808Z"
    },
    "id": "YnEXnb418tDN",
    "papermill": {
     "duration": 0.096165,
     "end_time": "2024-12-11T17:47:16.263568",
     "exception": false,
     "start_time": "2024-12-11T17:47:16.167403",
     "status": "completed"
    },
    "tags": []
   },
   "outputs": [],
   "source": [
    "def make_confusion_matrix(y_true, y_pred, labels=None, model_name=\"Model\"):\n",
    "    cm = confusion_matrix(y_true, y_pred)\n",
    "    plt.figure(figsize=(6, 6))\n",
    "    sns.heatmap(cm, annot=True, fmt=\"d\", cmap=\"Blues\", cbar=True,\n",
    "                xticklabels=labels, yticklabels=labels)\n",
    "    plt.title(f\"Confusion Matrix of {model_name}\")\n",
    "    plt.xlabel(\"Predicted Label\")\n",
    "    plt.ylabel(\"True Label\")\n",
    "    plt.tight_layout()\n",
    "    plt.show()"
   ]
  },
  {
   "cell_type": "code",
   "execution_count": null,
   "id": "74df7319",
   "metadata": {
    "execution": {
     "iopub.execute_input": "2024-12-11T17:47:16.442564Z",
     "iopub.status.busy": "2024-12-11T17:47:16.442086Z",
     "iopub.status.idle": "2024-12-11T17:47:16.457768Z",
     "shell.execute_reply": "2024-12-11T17:47:16.456589Z"
    },
    "id": "0sEfAYXO_xTj",
    "outputId": "be25fa9a-c954-44bb-96f4-95fb56835d8d",
    "papermill": {
     "duration": 0.108421,
     "end_time": "2024-12-11T17:47:16.460801",
     "exception": false,
     "start_time": "2024-12-11T17:47:16.352380",
     "status": "completed"
    },
    "tags": []
   },
   "outputs": [],
   "source": [
    "models_df = pd.DataFrame({\"experiment_name\": [], \"predictions\": [], \"accuracy\": [], \"precision\": [], \"recall\": [], \"f1\": [], \"specificity\": [], \"confusion_matrix\": []})\n",
    "models_df[\"predictions\"] = models_df[\"predictions\"].astype(object)  # this line is needed to enable numpy arrays to enter the \"predictions\" column\n",
    "models_df[\"confusion_matrix\"] = models_df[\"confusion_matrix\"].astype(object)  # this line is needed to enable numpy arrays to enter the \"predictions\" column\n",
    "models_df"
   ]
  },
  {
   "cell_type": "markdown",
   "id": "7f9ebea0",
   "metadata": {
    "papermill": {
     "duration": 0.07817,
     "end_time": "2024-12-11T17:47:16.637130",
     "exception": false,
     "start_time": "2024-12-11T17:47:16.558960",
     "status": "completed"
    },
    "tags": []
   },
   "source": [
    "<a id=\"7.1\"></a><div style=\"text-align: center; background: #007BFF; font-family: 'Verdana', sans-serif; color: white; padding: 18px; font-size: 24px; font-weight: 600; line-height: 1.3; border-radius: 20px; margin-bottom: 25px; box-shadow: 0px 4px 4px rgba(0, 0, 0, 0.1);\">Model Building Using 7 Models</div>"
   ]
  },
  {
   "cell_type": "code",
   "execution_count": null,
   "id": "10084068",
   "metadata": {
    "execution": {
     "iopub.execute_input": "2024-12-11T17:47:16.800652Z",
     "iopub.status.busy": "2024-12-11T17:47:16.800256Z",
     "iopub.status.idle": "2024-12-11T17:47:17.120717Z",
     "shell.execute_reply": "2024-12-11T17:47:17.119353Z"
    },
    "id": "mKeVaquMcJbe",
    "papermill": {
     "duration": 0.404376,
     "end_time": "2024-12-11T17:47:17.123578",
     "exception": false,
     "start_time": "2024-12-11T17:47:16.719202",
     "status": "completed"
    },
    "tags": []
   },
   "outputs": [],
   "source": [
    "from sklearn.model_selection import cross_val_score ,GridSearchCV\n",
    "from sklearn.linear_model import LogisticRegression , LinearRegression , Ridge , Lasso\n",
    "from sklearn.ensemble import RandomForestClassifier, GradientBoostingClassifier\n",
    "from xgboost import XGBClassifier\n",
    "from sklearn.svm import SVC\n",
    "from sklearn.neighbors import KNeighborsClassifier\n",
    "from sklearn.naive_bayes import GaussianNB\n",
    "from sklearn.tree import DecisionTreeClassifier\n",
    "from xgboost import XGBClassifier\n"
   ]
  },
  {
   "cell_type": "code",
   "execution_count": null,
   "id": "53d8ccfd",
   "metadata": {
    "execution": {
     "iopub.execute_input": "2024-12-11T17:47:17.292729Z",
     "iopub.status.busy": "2024-12-11T17:47:17.292350Z",
     "iopub.status.idle": "2024-12-11T17:47:17.299942Z",
     "shell.execute_reply": "2024-12-11T17:47:17.298438Z"
    },
    "id": "BVGeCI8-_l8t",
    "papermill": {
     "duration": 0.095196,
     "end_time": "2024-12-11T17:47:17.302293",
     "exception": false,
     "start_time": "2024-12-11T17:47:17.207097",
     "status": "completed"
    },
    "tags": []
   },
   "outputs": [],
   "source": [
    "lr=LogisticRegression()\n",
    "rf=RandomForestClassifier()\n",
    "svc=SVC()\n",
    "knn=KNeighborsClassifier()\n",
    "nb=GaussianNB()\n",
    "dt=DecisionTreeClassifier()\n",
    "gb=GradientBoostingClassifier()\n",
    "xgb=XGBClassifier()"
   ]
  },
  {
   "cell_type": "code",
   "execution_count": null,
   "id": "494b86f1",
   "metadata": {
    "execution": {
     "iopub.execute_input": "2024-12-11T17:47:17.466803Z",
     "iopub.status.busy": "2024-12-11T17:47:17.466350Z",
     "iopub.status.idle": "2024-12-11T17:47:17.475296Z",
     "shell.execute_reply": "2024-12-11T17:47:17.473857Z"
    },
    "id": "QY6Q9ZcBOKyA",
    "papermill": {
     "duration": 0.094817,
     "end_time": "2024-12-11T17:47:17.478095",
     "exception": false,
     "start_time": "2024-12-11T17:47:17.383278",
     "status": "completed"
    },
    "tags": []
   },
   "outputs": [],
   "source": [
    "def train_models( models, x_train, y_train):\n",
    "    models_df = pd.DataFrame({\"experiment_name\": [], \"predictions\": [], \"accuracy\": [], \"precision\": [], \"recall\": [], \"f1\": [], \"specificity\": [], \"confusion_matrix\": []})\n",
    "    for name, model in models.items():\n",
    "        print()\n",
    "        print(f\"Training {name}...\")\n",
    "        model.fit(x_train, y_train)\n",
    "        y_pred = model.predict(x_test)\n",
    "        print(f\"{name} training done.\")\n",
    "        models_df = pd.concat([models_df , result(y_test , y_pred , models_df , name) ] , ignore_index=True)\n",
    "\n",
    "    return models_df\n"
   ]
  },
  {
   "cell_type": "code",
   "execution_count": null,
   "id": "4049b5e9",
   "metadata": {
    "execution": {
     "iopub.execute_input": "2024-12-11T17:47:17.643238Z",
     "iopub.status.busy": "2024-12-11T17:47:17.642707Z",
     "iopub.status.idle": "2024-12-11T17:47:18.365773Z",
     "shell.execute_reply": "2024-12-11T17:47:18.362817Z"
    },
    "id": "bwhs03TfGWfi",
    "outputId": "a208243e-15e8-4ac6-b285-8029f93627a0",
    "papermill": {
     "duration": 0.808823,
     "end_time": "2024-12-11T17:47:18.368395",
     "exception": false,
     "start_time": "2024-12-11T17:47:17.559572",
     "status": "completed"
    },
    "tags": []
   },
   "outputs": [],
   "source": [
    "models = {\n",
    "    'Logistic Regression': lr ,\n",
    "    'Random Forest': rf,\n",
    "    'Support Vector Machine': svc,\n",
    "    'K-Nearest Neighbors': knn,\n",
    "    'Naive Bayes': nb,\n",
    "    'Decision Tree': dt,\n",
    "    'Gradient Boosting': gb,\n",
    "    'XGBoost': xgb\n",
    "}\n",
    "models_df = pd.concat([models_df , train_models(models ,x_train , y_train ) ] , ignore_index=True)"
   ]
  },
  {
   "cell_type": "code",
   "execution_count": null,
   "id": "146b5659",
   "metadata": {
    "execution": {
     "iopub.execute_input": "2024-12-11T17:47:18.542484Z",
     "iopub.status.busy": "2024-12-11T17:47:18.542059Z",
     "iopub.status.idle": "2024-12-11T17:47:18.570701Z",
     "shell.execute_reply": "2024-12-11T17:47:18.569416Z"
    },
    "id": "DSL2MdmzfrNP",
    "outputId": "9c179f99-ced2-4f6f-d981-7eb17d5c5025",
    "papermill": {
     "duration": 0.117722,
     "end_time": "2024-12-11T17:47:18.573163",
     "exception": false,
     "start_time": "2024-12-11T17:47:18.455441",
     "status": "completed"
    },
    "tags": []
   },
   "outputs": [],
   "source": [
    "models_df"
   ]
  },
  {
   "cell_type": "code",
   "execution_count": null,
   "id": "12903e82",
   "metadata": {
    "execution": {
     "iopub.execute_input": "2024-12-11T17:47:18.737916Z",
     "iopub.status.busy": "2024-12-11T17:47:18.737469Z",
     "iopub.status.idle": "2024-12-11T17:47:18.766394Z",
     "shell.execute_reply": "2024-12-11T17:47:18.764912Z"
    },
    "id": "gNWcMzPX_u9B",
    "outputId": "d5d3cea4-dcb0-46c9-c295-1853a174491d",
    "papermill": {
     "duration": 0.11311,
     "end_time": "2024-12-11T17:47:18.769468",
     "exception": false,
     "start_time": "2024-12-11T17:47:18.656358",
     "status": "completed"
    },
    "tags": []
   },
   "outputs": [],
   "source": [
    "models_df.sort_values(by='accuracy', ascending=False)"
   ]
  },
  {
   "cell_type": "markdown",
   "id": "13eb1c52",
   "metadata": {
    "papermill": {
     "duration": 0.086503,
     "end_time": "2024-12-11T17:47:18.944927",
     "exception": false,
     "start_time": "2024-12-11T17:47:18.858424",
     "status": "completed"
    },
    "tags": []
   },
   "source": [
    "<a id=\"7.2\"></a><div style=\"text-align: center; background: #007BFF; font-family: 'Verdana', sans-serif; color: white; padding: 18px; font-size: 24px; font-weight: 600; line-height: 1.3; border-radius: 20px; margin-bottom: 25px; box-shadow: 0px 4px 4px rgba(0, 0, 0, 0.1);\">Model Building by dealing Missings</div>"
   ]
  },
  {
   "cell_type": "markdown",
   "id": "b5676612",
   "metadata": {
    "id": "5dsKCBbfHsVU",
    "papermill": {
     "duration": 0.08866,
     "end_time": "2024-12-11T17:47:19.121851",
     "exception": false,
     "start_time": "2024-12-11T17:47:19.033191",
     "status": "completed"
    },
    "tags": []
   },
   "source": [
    "<a id=\"continuous_vs_target\"></a>\n",
    "<div style=\"text-align: center; background: #009688; font-family: 'Trebuchet MS', Arial, sans-serif; color: white; padding: 15px; font-size: 15px; font-weight: bold; border-radius: 10px; margin-bottom: 20px; box-shadow: 0px 4px 6px rgba(0, 0, 0, 0.1);\">\n",
    "    📊  Trying to improve models by dealing with missing cholesterol values </div>"
   ]
  },
  {
   "cell_type": "code",
   "execution_count": null,
   "id": "bd8d6264",
   "metadata": {
    "execution": {
     "iopub.execute_input": "2024-12-11T17:47:19.304867Z",
     "iopub.status.busy": "2024-12-11T17:47:19.304382Z",
     "iopub.status.idle": "2024-12-11T17:47:19.319228Z",
     "shell.execute_reply": "2024-12-11T17:47:19.317793Z"
    },
    "id": "wcy0UWeeLMdx",
    "outputId": "9dffa302-6672-4ce5-8fbb-a94710cc1cf3",
    "papermill": {
     "duration": 0.111701,
     "end_time": "2024-12-11T17:47:19.321747",
     "exception": false,
     "start_time": "2024-12-11T17:47:19.210046",
     "status": "completed"
    },
    "tags": []
   },
   "outputs": [],
   "source": [
    "df['Cholesterol'].describe()"
   ]
  },
  {
   "cell_type": "code",
   "execution_count": null,
   "id": "52f5522b",
   "metadata": {
    "execution": {
     "iopub.execute_input": "2024-12-11T17:47:19.488672Z",
     "iopub.status.busy": "2024-12-11T17:47:19.488291Z",
     "iopub.status.idle": "2024-12-11T17:47:19.503382Z",
     "shell.execute_reply": "2024-12-11T17:47:19.501767Z"
    },
    "id": "0V2x6-xYLht4",
    "outputId": "5d812bf1-90a2-49b7-fe1e-8639050e0f01",
    "papermill": {
     "duration": 0.100867,
     "end_time": "2024-12-11T17:47:19.506427",
     "exception": false,
     "start_time": "2024-12-11T17:47:19.405560",
     "status": "completed"
    },
    "tags": []
   },
   "outputs": [],
   "source": [
    "df[df['Cholesterol'] != 0]['Cholesterol'].describe()"
   ]
  },
  {
   "cell_type": "code",
   "execution_count": null,
   "id": "12fef96e",
   "metadata": {
    "execution": {
     "iopub.execute_input": "2024-12-11T17:47:19.689548Z",
     "iopub.status.busy": "2024-12-11T17:47:19.689137Z",
     "iopub.status.idle": "2024-12-11T17:47:19.703447Z",
     "shell.execute_reply": "2024-12-11T17:47:19.702256Z"
    },
    "id": "24pyk46yMIEn",
    "outputId": "576d76ed-82a2-43be-b4f6-402d5b970bd1",
    "papermill": {
     "duration": 0.106146,
     "end_time": "2024-12-11T17:47:19.705851",
     "exception": false,
     "start_time": "2024-12-11T17:47:19.599705",
     "status": "completed"
    },
    "tags": []
   },
   "outputs": [],
   "source": [
    "mean_imputed_df = df.copy(deep=True)\n",
    "mean_imputed_df['FastingBS']=df['FastingBS'].astype(int)\n",
    "mean_imputed_df['Cholesterol'] = df['Cholesterol'].replace(0, df['Cholesterol'].mean())\n",
    "mean_imputed_df['Cholesterol'].describe()"
   ]
  },
  {
   "cell_type": "code",
   "execution_count": null,
   "id": "3323d153",
   "metadata": {
    "execution": {
     "iopub.execute_input": "2024-12-11T17:47:19.873514Z",
     "iopub.status.busy": "2024-12-11T17:47:19.873028Z",
     "iopub.status.idle": "2024-12-11T17:47:19.880257Z",
     "shell.execute_reply": "2024-12-11T17:47:19.878808Z"
    },
    "id": "qJrSu_XDNJgB",
    "papermill": {
     "duration": 0.093934,
     "end_time": "2024-12-11T17:47:19.882675",
     "exception": false,
     "start_time": "2024-12-11T17:47:19.788741",
     "status": "completed"
    },
    "tags": []
   },
   "outputs": [],
   "source": [
    "im_lr=LogisticRegression()\n",
    "im_rf=RandomForestClassifier()\n",
    "im_svc=SVC()\n",
    "im_knn=KNeighborsClassifier()\n",
    "im_nb=GaussianNB()\n",
    "im_dt=DecisionTreeClassifier()\n",
    "im_gb=GradientBoostingClassifier()\n",
    "im_xgb=XGBClassifier()"
   ]
  },
  {
   "cell_type": "code",
   "execution_count": null,
   "id": "03aa6d69",
   "metadata": {
    "execution": {
     "iopub.execute_input": "2024-12-11T17:47:20.063701Z",
     "iopub.status.busy": "2024-12-11T17:47:20.063289Z",
     "iopub.status.idle": "2024-12-11T17:47:20.069582Z",
     "shell.execute_reply": "2024-12-11T17:47:20.068303Z"
    },
    "id": "RjPVp3i3Nw6Q",
    "papermill": {
     "duration": 0.098674,
     "end_time": "2024-12-11T17:47:20.071972",
     "exception": false,
     "start_time": "2024-12-11T17:47:19.973298",
     "status": "completed"
    },
    "tags": []
   },
   "outputs": [],
   "source": [
    "models = {\n",
    "    'Imputed Logistic Regression': im_lr ,\n",
    "    'Imputed Random Forest': im_rf,\n",
    "    'Imputed Support Vector Machine': im_svc,\n",
    "    'Imputed K-Nearest Neighbors': im_knn,\n",
    "    'Imputed Naive Bayes': im_nb,\n",
    "    'Imputed Decision Tree': im_dt,\n",
    "    'Imputed Gradient Boosting': im_gb,\n",
    "    'Imputed XGBoost': im_xgb\n",
    "}\n"
   ]
  },
  {
   "cell_type": "code",
   "execution_count": null,
   "id": "da145eb5",
   "metadata": {
    "execution": {
     "iopub.execute_input": "2024-12-11T17:47:20.238509Z",
     "iopub.status.busy": "2024-12-11T17:47:20.238131Z",
     "iopub.status.idle": "2024-12-11T17:47:20.249579Z",
     "shell.execute_reply": "2024-12-11T17:47:20.248330Z"
    },
    "id": "Qml12oFTUUoN",
    "papermill": {
     "duration": 0.096723,
     "end_time": "2024-12-11T17:47:20.252141",
     "exception": false,
     "start_time": "2024-12-11T17:47:20.155418",
     "status": "completed"
    },
    "tags": []
   },
   "outputs": [],
   "source": [
    "X= mean_imputed_df.drop('HeartDisease',axis=1)\n",
    "y= mean_imputed_df['HeartDisease']\n",
    "x_train,x_test, y_train, y_test = train_test_split(X,y, test_size=0.2, random_state=1)"
   ]
  },
  {
   "cell_type": "code",
   "execution_count": null,
   "id": "20514a7a",
   "metadata": {
    "execution": {
     "iopub.execute_input": "2024-12-11T17:47:20.418298Z",
     "iopub.status.busy": "2024-12-11T17:47:20.417778Z",
     "iopub.status.idle": "2024-12-11T17:47:21.008751Z",
     "shell.execute_reply": "2024-12-11T17:47:21.005959Z"
    },
    "id": "8mXiqvpiqgp5",
    "outputId": "7686ba5f-e557-423e-cc28-4eeecd5a8511",
    "papermill": {
     "duration": 0.676361,
     "end_time": "2024-12-11T17:47:21.011343",
     "exception": false,
     "start_time": "2024-12-11T17:47:20.334982",
     "status": "completed"
    },
    "tags": []
   },
   "outputs": [],
   "source": [
    "models_df = pd.concat([models_df , train_models(models ,x_train , y_train ) ] , ignore_index=True)"
   ]
  },
  {
   "cell_type": "code",
   "execution_count": null,
   "id": "bb4ef3be",
   "metadata": {
    "execution": {
     "iopub.execute_input": "2024-12-11T17:47:21.176498Z",
     "iopub.status.busy": "2024-12-11T17:47:21.176030Z",
     "iopub.status.idle": "2024-12-11T17:47:21.217599Z",
     "shell.execute_reply": "2024-12-11T17:47:21.216207Z"
    },
    "id": "ILtVVsu2qkhb",
    "outputId": "142431ed-8241-42c8-c69d-13f2ca947019",
    "papermill": {
     "duration": 0.126805,
     "end_time": "2024-12-11T17:47:21.219947",
     "exception": false,
     "start_time": "2024-12-11T17:47:21.093142",
     "status": "completed"
    },
    "tags": []
   },
   "outputs": [],
   "source": [
    "models_df"
   ]
  },
  {
   "cell_type": "markdown",
   "id": "fcec8eae",
   "metadata": {
    "id": "AUv1_h1IAm2J",
    "papermill": {
     "duration": 0.089647,
     "end_time": "2024-12-11T17:47:21.396872",
     "exception": false,
     "start_time": "2024-12-11T17:47:21.307225",
     "status": "completed"
    },
    "tags": []
   },
   "source": [
    "<a id=\"8\"></a>\n",
    "<div style=\"text-align: center; background: #22177A; font-family: 'Verdana', sans-serif; color: white; padding: 15px; font-size: 28px; font-weight: bold; line-height: 1.2; border-radius: 10px; margin-bottom: 20px; box-shadow: 0px 4px 8px rgba(0, 0, 0, 0.15);\"> 🧩HyperParameter Tunning🧩</div>"
   ]
  },
  {
   "cell_type": "markdown",
   "id": "7598b8d6",
   "metadata": {
    "id": "zcAvQnpmBjMg",
    "papermill": {
     "duration": 0.086264,
     "end_time": "2024-12-11T17:47:21.568903",
     "exception": false,
     "start_time": "2024-12-11T17:47:21.482639",
     "status": "completed"
    },
    "tags": []
   },
   "source": [
    "<a id=\"8.1\"></a><div style=\"text-align: center; background: #007BFF; font-family: 'Verdana', sans-serif; color: white; padding: 18px; font-size: 24px; font-weight: 600; line-height: 1.3; border-radius: 20px; margin-bottom: 25px; box-shadow: 0px 4px 4px rgba(0, 0, 0, 0.1);\">For Decision Tree</div>"
   ]
  },
  {
   "cell_type": "code",
   "execution_count": null,
   "id": "7903dedb",
   "metadata": {
    "execution": {
     "iopub.execute_input": "2024-12-11T17:47:21.743252Z",
     "iopub.status.busy": "2024-12-11T17:47:21.742799Z",
     "iopub.status.idle": "2024-12-11T17:47:21.749252Z",
     "shell.execute_reply": "2024-12-11T17:47:21.747991Z"
    },
    "id": "ISilCMukAmQu",
    "papermill": {
     "duration": 0.093319,
     "end_time": "2024-12-11T17:47:21.752023",
     "exception": false,
     "start_time": "2024-12-11T17:47:21.658704",
     "status": "completed"
    },
    "tags": []
   },
   "outputs": [],
   "source": [
    "param_grid = {\n",
    "    \"criterion\": [\"gini\", \"entropy\"],\n",
    "    \"max_depth\": [None, 5, 10, 15, 20],\n",
    "    \"min_samples_split\": [2, 5, 10],\n",
    "    \"min_samples_leaf\": [1, 2, 4],\n",
    "    \"max_features\": [None, \"sqrt\", \"log2\"],\n",
    "    \"max_leaf_nodes\": [None, 10, 20, 50]\n",
    "}"
   ]
  },
  {
   "cell_type": "code",
   "execution_count": null,
   "id": "a4d4eca6",
   "metadata": {
    "execution": {
     "iopub.execute_input": "2024-12-11T17:47:21.931632Z",
     "iopub.status.busy": "2024-12-11T17:47:21.931204Z",
     "iopub.status.idle": "2024-12-11T17:47:37.017681Z",
     "shell.execute_reply": "2024-12-11T17:47:37.015926Z"
    },
    "id": "I9wMhQa3DH06",
    "outputId": "cf842677-56f7-4f72-ee26-e44988943e3c",
    "papermill": {
     "duration": 15.179534,
     "end_time": "2024-12-11T17:47:37.020491",
     "exception": false,
     "start_time": "2024-12-11T17:47:21.840957",
     "status": "completed"
    },
    "tags": []
   },
   "outputs": [],
   "source": [
    "grid_search = GridSearchCV(estimator= DecisionTreeClassifier(),param_grid=param_grid,\n",
    "                           scoring=\"accuracy\", cv=5, n_jobs=-1, verbose=1)\n",
    "grid_search.fit(x_train, y_train)"
   ]
  },
  {
   "cell_type": "code",
   "execution_count": null,
   "id": "b30c1021",
   "metadata": {
    "execution": {
     "iopub.execute_input": "2024-12-11T17:47:37.189871Z",
     "iopub.status.busy": "2024-12-11T17:47:37.189270Z",
     "iopub.status.idle": "2024-12-11T17:47:37.218261Z",
     "shell.execute_reply": "2024-12-11T17:47:37.216817Z"
    },
    "id": "0_wgOTPkYWrA",
    "outputId": "bbaf5d89-1c9e-4558-c28c-ff9463bed5b1",
    "papermill": {
     "duration": 0.115696,
     "end_time": "2024-12-11T17:47:37.221341",
     "exception": false,
     "start_time": "2024-12-11T17:47:37.105645",
     "status": "completed"
    },
    "tags": []
   },
   "outputs": [],
   "source": [
    "print(\"Best hyperparameters:\", grid_search.best_params_)\n",
    "\n",
    "# Best model\n",
    "best_dt_model = grid_search.best_estimator_\n",
    "best_dt_model.fit(x_train, y_train)\n",
    "predictions = best_dt_model.predict(x_test)\n",
    "accuracy = accuracy_score(y_test, predictions)\n",
    "models_df = pd.concat([models_df , train_models({'Tunned DecisionTree': best_dt_model} ,x_train , y_train ) ] , ignore_index=True)\n",
    "# models_df = pd.concat([models_df , train_models(best_dt_model ,x_train , y_train ) ] , ignore_index=True)\n",
    "print(\"Accuracy:\", accuracy)"
   ]
  },
  {
   "cell_type": "code",
   "execution_count": null,
   "id": "37bb6e61",
   "metadata": {
    "execution": {
     "iopub.execute_input": "2024-12-11T17:47:37.405344Z",
     "iopub.status.busy": "2024-12-11T17:47:37.403795Z",
     "iopub.status.idle": "2024-12-11T17:47:37.447771Z",
     "shell.execute_reply": "2024-12-11T17:47:37.446555Z"
    },
    "id": "69C47zChrRRp",
    "outputId": "f2fdb240-d695-42c8-89f6-e95795b88040",
    "papermill": {
     "duration": 0.135896,
     "end_time": "2024-12-11T17:47:37.450450",
     "exception": false,
     "start_time": "2024-12-11T17:47:37.314554",
     "status": "completed"
    },
    "tags": []
   },
   "outputs": [],
   "source": [
    "models_df"
   ]
  },
  {
   "cell_type": "markdown",
   "id": "df9185fe",
   "metadata": {
    "id": "_PkzkY52ZlOf",
    "papermill": {
     "duration": 0.082211,
     "end_time": "2024-12-11T17:47:37.616709",
     "exception": false,
     "start_time": "2024-12-11T17:47:37.534498",
     "status": "completed"
    },
    "tags": []
   },
   "source": [
    "<a id=\"8.2\"></a><div style=\"text-align: center; background: #007BFF; font-family: 'Verdana', sans-serif; color: white; padding: 18px; font-size: 24px; font-weight: 600; line-height: 1.3; border-radius: 20px; margin-bottom: 25px; box-shadow: 0px 4px 4px rgba(0, 0, 0, 0.1);\">For Random Forest</div>"
   ]
  },
  {
   "cell_type": "code",
   "execution_count": null,
   "id": "4ea71cf8",
   "metadata": {
    "execution": {
     "iopub.execute_input": "2024-12-11T17:47:37.788058Z",
     "iopub.status.busy": "2024-12-11T17:47:37.787619Z",
     "iopub.status.idle": "2024-12-11T17:47:37.794365Z",
     "shell.execute_reply": "2024-12-11T17:47:37.792894Z"
    },
    "id": "VlXUmN_nY3sE",
    "papermill": {
     "duration": 0.09626,
     "end_time": "2024-12-11T17:47:37.797013",
     "exception": false,
     "start_time": "2024-12-11T17:47:37.700753",
     "status": "completed"
    },
    "tags": []
   },
   "outputs": [],
   "source": [
    "random_param_grid = {\n",
    "    'n_estimators': [100, 200, 300, 400, 500],\n",
    "    'max_depth': [10, 20, 30, None],\n",
    "    'min_samples_split': [2, 5, 10],\n",
    "    'min_samples_leaf': [1, 2, 4],\n",
    "    'max_features': ['sqrt', 'log2'],\n",
    "    'bootstrap': [True, False]\n",
    "}"
   ]
  },
  {
   "cell_type": "code",
   "execution_count": null,
   "id": "f8da7f89",
   "metadata": {
    "execution": {
     "iopub.execute_input": "2024-12-11T17:47:37.995323Z",
     "iopub.status.busy": "2024-12-11T17:47:37.994947Z",
     "iopub.status.idle": "2024-12-11T17:47:50.935663Z",
     "shell.execute_reply": "2024-12-11T17:47:50.934143Z"
    },
    "id": "fXEsCCnhZrlP",
    "outputId": "c85835cf-2b89-4991-9867-c36c921cf25e",
    "papermill": {
     "duration": 13.046025,
     "end_time": "2024-12-11T17:47:50.938214",
     "exception": false,
     "start_time": "2024-12-11T17:47:37.892189",
     "status": "completed"
    },
    "tags": []
   },
   "outputs": [],
   "source": [
    "rf_grid_search = GridSearchCV( estimator=best_dt_model,param_grid=param_grid,\n",
    "                           scoring=\"accuracy\", cv=5, n_jobs=-1, verbose=1)\n",
    "grid_search.fit(x_train, y_train)\n",
    "print(\"Best Parameters:\", grid_search.best_params_)\n",
    "print(\"Best Accuracy:\", grid_search.best_score_)"
   ]
  },
  {
   "cell_type": "code",
   "execution_count": null,
   "id": "1452e976",
   "metadata": {
    "execution": {
     "iopub.execute_input": "2024-12-11T17:47:51.112152Z",
     "iopub.status.busy": "2024-12-11T17:47:51.111662Z",
     "iopub.status.idle": "2024-12-11T17:47:51.138684Z",
     "shell.execute_reply": "2024-12-11T17:47:51.137210Z"
    },
    "id": "Xhk56iwfaZNg",
    "outputId": "43a6f27d-23c6-4870-8d8c-dca185f554dd",
    "papermill": {
     "duration": 0.116605,
     "end_time": "2024-12-11T17:47:51.141310",
     "exception": false,
     "start_time": "2024-12-11T17:47:51.024705",
     "status": "completed"
    },
    "tags": []
   },
   "outputs": [],
   "source": [
    "best_rf = grid_search.best_estimator_\n",
    "y_pred = best_rf.predict(x_test)\n",
    "accuracy = accuracy_score(y_test, y_pred)\n",
    "models_df = pd.concat([models_df , train_models({\"Tunned Random Forest\": best_rf} ,x_train , y_train ) ] , ignore_index=True)\n",
    "print(\"Accuracy:\", accuracy)"
   ]
  },
  {
   "cell_type": "code",
   "execution_count": null,
   "id": "6cd9d4c4",
   "metadata": {
    "execution": {
     "iopub.execute_input": "2024-12-11T17:47:51.310734Z",
     "iopub.status.busy": "2024-12-11T17:47:51.310347Z",
     "iopub.status.idle": "2024-12-11T17:47:51.352794Z",
     "shell.execute_reply": "2024-12-11T17:47:51.351627Z"
    },
    "id": "K_Ws7uY-rxkH",
    "outputId": "670aa97d-428f-4df3-c740-2b3ee65eea5c",
    "papermill": {
     "duration": 0.131262,
     "end_time": "2024-12-11T17:47:51.356229",
     "exception": false,
     "start_time": "2024-12-11T17:47:51.224967",
     "status": "completed"
    },
    "tags": []
   },
   "outputs": [],
   "source": [
    "models_df"
   ]
  },
  {
   "cell_type": "markdown",
   "id": "49a2c6d1",
   "metadata": {
    "id": "syS76mzWbkhY",
    "papermill": {
     "duration": 0.082452,
     "end_time": "2024-12-11T17:47:51.523110",
     "exception": false,
     "start_time": "2024-12-11T17:47:51.440658",
     "status": "completed"
    },
    "tags": []
   },
   "source": [
    "<a id=\"8.3\"></a><div style=\"text-align: center; background: #007BFF; font-family: 'Verdana', sans-serif; color: white; padding: 18px; font-size: 24px; font-weight: 600; line-height: 1.3; border-radius: 20px; margin-bottom: 25px; box-shadow: 0px 4px 4px rgba(0, 0, 0, 0.1);\">For XGBoost</div>"
   ]
  },
  {
   "cell_type": "code",
   "execution_count": null,
   "id": "37d2fec1",
   "metadata": {
    "execution": {
     "iopub.execute_input": "2024-12-11T17:47:51.693022Z",
     "iopub.status.busy": "2024-12-11T17:47:51.692516Z",
     "iopub.status.idle": "2024-12-11T17:47:51.699704Z",
     "shell.execute_reply": "2024-12-11T17:47:51.698239Z"
    },
    "id": "3iBqCweebeAt",
    "papermill": {
     "duration": 0.095357,
     "end_time": "2024-12-11T17:47:51.702491",
     "exception": false,
     "start_time": "2024-12-11T17:47:51.607134",
     "status": "completed"
    },
    "tags": []
   },
   "outputs": [],
   "source": [
    "param_grid = {\n",
    "    'n_estimators': [100, 200, 300, 500],\n",
    "    'max_depth': [3, 5, 7, 10],\n",
    "    'learning_rate': [0.01, 0.05, 0.1, 0.2],\n",
    "    'min_child_weight': [1, 3, 5, 7],\n",
    "    'gamma': [0, 0.1, 0.2, 0.3, 1],\n",
    "    'subsample': [0.6, 0.7, 0.8, 1.0],\n",
    "    'lambda': [0, 1, 10],\n",
    "    'alpha': [0, 0.1, 1, 10]\n",
    "}"
   ]
  },
  {
   "cell_type": "code",
   "execution_count": null,
   "id": "6c48b60c",
   "metadata": {
    "execution": {
     "iopub.execute_input": "2024-12-11T17:47:51.874983Z",
     "iopub.status.busy": "2024-12-11T17:47:51.874548Z",
     "iopub.status.idle": "2024-12-11T17:47:51.880195Z",
     "shell.execute_reply": "2024-12-11T17:47:51.879008Z"
    },
    "id": "3dGVXNkxoc_y",
    "papermill": {
     "duration": 0.095229,
     "end_time": "2024-12-11T17:47:51.882462",
     "exception": false,
     "start_time": "2024-12-11T17:47:51.787233",
     "status": "completed"
    },
    "tags": []
   },
   "outputs": [],
   "source": [
    "from sklearn.model_selection import RandomizedSearchCV"
   ]
  },
  {
   "cell_type": "code",
   "execution_count": null,
   "id": "8bf4c379",
   "metadata": {
    "execution": {
     "iopub.execute_input": "2024-12-11T17:47:52.053282Z",
     "iopub.status.busy": "2024-12-11T17:47:52.052805Z",
     "iopub.status.idle": "2024-12-11T17:48:02.712920Z",
     "shell.execute_reply": "2024-12-11T17:48:02.711744Z"
    },
    "id": "kqu9vaD9bt3P",
    "outputId": "9bb0b864-5732-443d-993f-d3ae42b0fdec",
    "papermill": {
     "duration": 10.748931,
     "end_time": "2024-12-11T17:48:02.715293",
     "exception": false,
     "start_time": "2024-12-11T17:47:51.966362",
     "status": "completed"
    },
    "tags": []
   },
   "outputs": [],
   "source": [
    "xgb_random_search = RandomizedSearchCV( estimator=xgb, param_distributions=param_grid, n_iter=50,\n",
    "    scoring='accuracy', cv=5, verbose=2,random_state=42, n_jobs=-1)\n",
    "xgb_random_search.fit(x_train, y_train)"
   ]
  },
  {
   "cell_type": "code",
   "execution_count": null,
   "id": "39e62122",
   "metadata": {
    "execution": {
     "iopub.execute_input": "2024-12-11T17:48:02.902659Z",
     "iopub.status.busy": "2024-12-11T17:48:02.902207Z",
     "iopub.status.idle": "2024-12-11T17:48:03.100211Z",
     "shell.execute_reply": "2024-12-11T17:48:03.099162Z"
    },
    "id": "RlNnzFVZcnwW",
    "outputId": "1c2eea4e-14b9-4405-fc2f-68ca7b62002e",
    "papermill": {
     "duration": 0.292137,
     "end_time": "2024-12-11T17:48:03.102680",
     "exception": false,
     "start_time": "2024-12-11T17:48:02.810543",
     "status": "completed"
    },
    "tags": []
   },
   "outputs": [],
   "source": [
    "best_xgb = xgb_random_search.best_estimator_\n",
    "y_pred = best_xgb.predict(x_test)\n",
    "accuracy = accuracy_score(y_test, y_pred)\n",
    "models_df = pd.concat([models_df , train_models({\"Tunned XG Boost\": best_xgb} ,x_train , y_train ) ] , ignore_index=True)\n",
    "print(\"Accuracy:\", accuracy)"
   ]
  },
  {
   "cell_type": "code",
   "execution_count": null,
   "id": "7ea3eb3c",
   "metadata": {
    "execution": {
     "iopub.execute_input": "2024-12-11T17:48:03.276498Z",
     "iopub.status.busy": "2024-12-11T17:48:03.276134Z",
     "iopub.status.idle": "2024-12-11T17:48:03.320925Z",
     "shell.execute_reply": "2024-12-11T17:48:03.319636Z"
    },
    "id": "PC2fV6ARsEMb",
    "outputId": "c86cd237-b9d0-40bf-be0b-7b4a5e36b43c",
    "papermill": {
     "duration": 0.133068,
     "end_time": "2024-12-11T17:48:03.323319",
     "exception": false,
     "start_time": "2024-12-11T17:48:03.190251",
     "status": "completed"
    },
    "tags": []
   },
   "outputs": [],
   "source": [
    "models_df"
   ]
  },
  {
   "cell_type": "markdown",
   "id": "528b915d",
   "metadata": {
    "id": "meNQo7NXdJCV",
    "papermill": {
     "duration": 0.083009,
     "end_time": "2024-12-11T17:48:03.493150",
     "exception": false,
     "start_time": "2024-12-11T17:48:03.410141",
     "status": "completed"
    },
    "tags": []
   },
   "source": [
    "<a id=\"9\"></a>\n",
    "<div style=\"text-align: center; background: #22177A; font-family: 'Verdana', sans-serif; color: white; padding: 15px; font-size: 28px; font-weight: bold; line-height: 1.2; border-radius: 10px; margin-bottom: 20px; box-shadow: 0px 4px 8px rgba(0, 0, 0, 0.15);\"> 🧩Model-Building (Using BAGGING)🧩</div>"
   ]
  },
  {
   "cell_type": "markdown",
   "id": "bd718318",
   "metadata": {
    "id": "24JHKTW_eVnT",
    "papermill": {
     "duration": 0.090586,
     "end_time": "2024-12-11T17:48:03.675505",
     "exception": false,
     "start_time": "2024-12-11T17:48:03.584919",
     "status": "completed"
    },
    "tags": []
   },
   "source": [
    "<a id=\"9.1\"></a><div style=\"text-align: center; background: #007BFF; font-family: 'Verdana', sans-serif; color: white ; padding: 18px; font-size: 24px; font-weight: 600; line-height: 1.3; border-radius: 20px; margin-bottom: 25px; box-shadow: 0px 4px 4px rgba(0, 0, 0, 0.1);\">For SVM</div>"
   ]
  },
  {
   "cell_type": "code",
   "execution_count": null,
   "id": "4da80f1d",
   "metadata": {
    "execution": {
     "iopub.execute_input": "2024-12-11T17:48:03.859887Z",
     "iopub.status.busy": "2024-12-11T17:48:03.859387Z",
     "iopub.status.idle": "2024-12-11T17:48:03.865161Z",
     "shell.execute_reply": "2024-12-11T17:48:03.863905Z"
    },
    "id": "tjkGq_Gsdd3o",
    "papermill": {
     "duration": 0.102148,
     "end_time": "2024-12-11T17:48:03.867768",
     "exception": false,
     "start_time": "2024-12-11T17:48:03.765620",
     "status": "completed"
    },
    "tags": []
   },
   "outputs": [],
   "source": [
    "from sklearn.ensemble import BaggingClassifier"
   ]
  },
  {
   "cell_type": "code",
   "execution_count": null,
   "id": "2af48c61",
   "metadata": {
    "execution": {
     "iopub.execute_input": "2024-12-11T17:48:04.043725Z",
     "iopub.status.busy": "2024-12-11T17:48:04.043357Z",
     "iopub.status.idle": "2024-12-11T17:48:04.858421Z",
     "shell.execute_reply": "2024-12-11T17:48:04.857115Z"
    },
    "id": "sy9r4MIxdL_4",
    "outputId": "eb17531c-2077-4e13-ac48-3b5e41e0d213",
    "papermill": {
     "duration": 0.905837,
     "end_time": "2024-12-11T17:48:04.861136",
     "exception": false,
     "start_time": "2024-12-11T17:48:03.955299",
     "status": "completed"
    },
    "tags": []
   },
   "outputs": [],
   "source": [
    "bg_svm = BaggingClassifier(estimator=svc, n_estimators=100, random_state=42)\n",
    "bg_svm.fit(x_train, y_train)"
   ]
  },
  {
   "cell_type": "code",
   "execution_count": null,
   "id": "12d24fa5",
   "metadata": {
    "execution": {
     "iopub.execute_input": "2024-12-11T17:48:05.034990Z",
     "iopub.status.busy": "2024-12-11T17:48:05.034448Z",
     "iopub.status.idle": "2024-12-11T17:48:06.401243Z",
     "shell.execute_reply": "2024-12-11T17:48:06.399899Z"
    },
    "id": "CrJNtIo-dyc6",
    "outputId": "6d278b90-5e05-4928-d0a5-ffb01dfc53a4",
    "papermill": {
     "duration": 1.45585,
     "end_time": "2024-12-11T17:48:06.404197",
     "exception": false,
     "start_time": "2024-12-11T17:48:04.948347",
     "status": "completed"
    },
    "tags": []
   },
   "outputs": [],
   "source": [
    "y_pred = bg_svm.predict(x_test)\n",
    "accuracy = accuracy_score(y_test, y_pred)\n",
    "models_df = pd.concat([models_df , train_models({\"SVC(bagging)\": bg_svm} ,x_train , y_train ) ] , ignore_index=True)\n",
    "\n",
    "# models_df = pd.concat([models_df , result(y_test, predictions ,models_df, \"SVC Advanced\" ) ] , ignore_index=True)\n",
    "print(\"Accuracy:\", accuracy)"
   ]
  },
  {
   "cell_type": "code",
   "execution_count": null,
   "id": "c637e308",
   "metadata": {
    "execution": {
     "iopub.execute_input": "2024-12-11T17:48:06.592132Z",
     "iopub.status.busy": "2024-12-11T17:48:06.591611Z",
     "iopub.status.idle": "2024-12-11T17:48:06.639954Z",
     "shell.execute_reply": "2024-12-11T17:48:06.638418Z"
    },
    "id": "4If2VPWIsprl",
    "outputId": "e5c1805e-46ad-4634-f171-df3ff4dc53c9",
    "papermill": {
     "duration": 0.143947,
     "end_time": "2024-12-11T17:48:06.642735",
     "exception": false,
     "start_time": "2024-12-11T17:48:06.498788",
     "status": "completed"
    },
    "tags": []
   },
   "outputs": [],
   "source": [
    "models_df"
   ]
  },
  {
   "cell_type": "markdown",
   "id": "eee0e922",
   "metadata": {
    "id": "tkAMaYPWeZnI",
    "papermill": {
     "duration": 0.084887,
     "end_time": "2024-12-11T17:48:06.816007",
     "exception": false,
     "start_time": "2024-12-11T17:48:06.731120",
     "status": "completed"
    },
    "tags": []
   },
   "source": [
    "<a id=\"9.2\"></a><div style=\"text-align: center; background: #007BFF; font-family: 'Verdana', sans-serif; color: white; padding: 18px; font-size: 24px; font-weight: 600; line-height: 1.3; border-radius: 20px; margin-bottom: 25px; box-shadow: 0px 4px 4px rgba(0, 0, 0, 0.1);\">For KNN</div>"
   ]
  },
  {
   "cell_type": "code",
   "execution_count": null,
   "id": "5becdb40",
   "metadata": {
    "execution": {
     "iopub.execute_input": "2024-12-11T17:48:06.991421Z",
     "iopub.status.busy": "2024-12-11T17:48:06.991015Z",
     "iopub.status.idle": "2024-12-11T17:48:07.194240Z",
     "shell.execute_reply": "2024-12-11T17:48:07.192946Z"
    },
    "id": "RQhjPcKXeTIL",
    "outputId": "0bdbb989-dc89-4f11-f4ef-0bf2ffb81e24",
    "papermill": {
     "duration": 0.293445,
     "end_time": "2024-12-11T17:48:07.196451",
     "exception": false,
     "start_time": "2024-12-11T17:48:06.903006",
     "status": "completed"
    },
    "tags": []
   },
   "outputs": [],
   "source": [
    "bg_knn = BaggingClassifier(estimator=knn, n_estimators=100, random_state=42)\n",
    "bg_knn.fit(x_train, y_train)"
   ]
  },
  {
   "cell_type": "code",
   "execution_count": null,
   "id": "7fb14384",
   "metadata": {
    "execution": {
     "iopub.execute_input": "2024-12-11T17:48:07.371339Z",
     "iopub.status.busy": "2024-12-11T17:48:07.370972Z",
     "iopub.status.idle": "2024-12-11T17:48:08.243541Z",
     "shell.execute_reply": "2024-12-11T17:48:08.242393Z"
    },
    "id": "XFnpKV03eqNq",
    "outputId": "6259dcd5-32f8-493e-f68d-1b5be33c10d9",
    "papermill": {
     "duration": 0.962207,
     "end_time": "2024-12-11T17:48:08.245930",
     "exception": false,
     "start_time": "2024-12-11T17:48:07.283723",
     "status": "completed"
    },
    "tags": []
   },
   "outputs": [],
   "source": [
    "y_pred = bg_knn.predict(x_test)\n",
    "accuracy = accuracy_score(y_test, y_pred)\n",
    "models_df = pd.concat([models_df , train_models({\"KNN (bagging)\": bg_knn} ,x_train , y_train ) ] , ignore_index=True)\n",
    "\n",
    "# models_df = pd.concat([models_df , result(y_test, predictions ,models_df, \"KNN Advanced\" ) ] , ignore_index=True)\n",
    "print(\"Accuracy:\", accuracy)"
   ]
  },
  {
   "cell_type": "code",
   "execution_count": null,
   "id": "d358acbd",
   "metadata": {
    "execution": {
     "iopub.execute_input": "2024-12-11T17:48:08.437075Z",
     "iopub.status.busy": "2024-12-11T17:48:08.435922Z",
     "iopub.status.idle": "2024-12-11T17:48:08.480276Z",
     "shell.execute_reply": "2024-12-11T17:48:08.479073Z"
    },
    "id": "4DzYM6nHtAi2",
    "outputId": "01d52a03-5b14-4db5-9e33-b620166e1b5a",
    "papermill": {
     "duration": 0.142938,
     "end_time": "2024-12-11T17:48:08.482672",
     "exception": false,
     "start_time": "2024-12-11T17:48:08.339734",
     "status": "completed"
    },
    "tags": []
   },
   "outputs": [],
   "source": [
    "models_df"
   ]
  },
  {
   "cell_type": "code",
   "execution_count": null,
   "id": "ed19d7f8",
   "metadata": {
    "execution": {
     "iopub.execute_input": "2024-12-11T17:48:08.672500Z",
     "iopub.status.busy": "2024-12-11T17:48:08.672045Z",
     "iopub.status.idle": "2024-12-11T17:48:09.445494Z",
     "shell.execute_reply": "2024-12-11T17:48:09.444095Z"
    },
    "id": "pgIJ_Yfae2Oo",
    "outputId": "44b9f2ea-1d9f-4768-82f3-9d2e99c211f3",
    "papermill": {
     "duration": 0.868285,
     "end_time": "2024-12-11T17:48:09.448337",
     "exception": false,
     "start_time": "2024-12-11T17:48:08.580052",
     "status": "completed"
    },
    "tags": []
   },
   "outputs": [],
   "source": [
    "bg_lr = BaggingClassifier(estimator=lr, n_estimators=100, random_state=42)\n",
    "bg_lr.fit(x_train, y_train)"
   ]
  },
  {
   "cell_type": "code",
   "execution_count": null,
   "id": "3f4e9ca8",
   "metadata": {
    "execution": {
     "iopub.execute_input": "2024-12-11T17:48:09.628557Z",
     "iopub.status.busy": "2024-12-11T17:48:09.628042Z",
     "iopub.status.idle": "2024-12-11T17:48:10.745250Z",
     "shell.execute_reply": "2024-12-11T17:48:10.743558Z"
    },
    "id": "Qy8mLTHFexDn",
    "outputId": "c5403960-4466-4c82-c498-8c5a925a804c",
    "papermill": {
     "duration": 1.210055,
     "end_time": "2024-12-11T17:48:10.747984",
     "exception": false,
     "start_time": "2024-12-11T17:48:09.537929",
     "status": "completed"
    },
    "tags": []
   },
   "outputs": [],
   "source": [
    "y_pred = bg_lr.predict(x_test)\n",
    "accuracy = accuracy_score(y_test, y_pred)\n",
    "models_df = pd.concat([models_df , train_models({\"Logistic Regression (bagging)\": bg_svm} ,x_train , y_train ) ] , ignore_index=True)\n",
    "\n",
    "# models_df = pd.concat([models_df , result(y_test, predictions ,models_df, \"Logistic Regresion Advanced\" ) ] , ignore_index=True)\n",
    "print(\"Accuracy:\", accuracy)"
   ]
  },
  {
   "cell_type": "markdown",
   "id": "c75225d5",
   "metadata": {
    "papermill": {
     "duration": 0.086696,
     "end_time": "2024-12-11T17:48:10.923740",
     "exception": false,
     "start_time": "2024-12-11T17:48:10.837044",
     "status": "completed"
    },
    "tags": []
   },
   "source": [
    "<a id=\"10\"></a>\n",
    "<div style=\"text-align: center; background: #22177A; font-family: 'Verdana', sans-serif; color: white; padding: 15px; font-size: 28px; font-weight: bold; line-height: 1.2; border-radius: 10px; margin-bottom: 20px; box-shadow: 0px 4px 8px rgba(0, 0, 0, 0.15);\"> 🧩Model-Evaluation🧩</div>"
   ]
  },
  {
   "cell_type": "code",
   "execution_count": null,
   "id": "dfbea238",
   "metadata": {
    "execution": {
     "iopub.execute_input": "2024-12-11T17:48:11.103991Z",
     "iopub.status.busy": "2024-12-11T17:48:11.103317Z",
     "iopub.status.idle": "2024-12-11T17:48:11.155292Z",
     "shell.execute_reply": "2024-12-11T17:48:11.153945Z"
    },
    "id": "IxCMT5UP5HXl",
    "outputId": "cdb582b6-e86d-468f-da45-1d19f1a6bd62",
    "papermill": {
     "duration": 0.144895,
     "end_time": "2024-12-11T17:48:11.157624",
     "exception": false,
     "start_time": "2024-12-11T17:48:11.012729",
     "status": "completed"
    },
    "tags": []
   },
   "outputs": [],
   "source": [
    "models_df.sort_values(by='accuracy', ascending=False)"
   ]
  },
  {
   "cell_type": "code",
   "execution_count": null,
   "id": "8d8c6e47",
   "metadata": {
    "execution": {
     "iopub.execute_input": "2024-12-11T17:48:11.335468Z",
     "iopub.status.busy": "2024-12-11T17:48:11.334993Z",
     "iopub.status.idle": "2024-12-11T17:48:11.382726Z",
     "shell.execute_reply": "2024-12-11T17:48:11.381194Z"
    },
    "id": "J979R_X_tN_6",
    "outputId": "7dd1f17a-3ec9-4b58-dd12-dc8064abab1d",
    "papermill": {
     "duration": 0.139001,
     "end_time": "2024-12-11T17:48:11.385118",
     "exception": false,
     "start_time": "2024-12-11T17:48:11.246117",
     "status": "completed"
    },
    "tags": []
   },
   "outputs": [],
   "source": [
    "models_df"
   ]
  },
  {
   "cell_type": "code",
   "execution_count": null,
   "id": "d364416c",
   "metadata": {
    "execution": {
     "iopub.execute_input": "2024-12-11T17:48:11.570134Z",
     "iopub.status.busy": "2024-12-11T17:48:11.568782Z",
     "iopub.status.idle": "2024-12-11T17:48:11.581679Z",
     "shell.execute_reply": "2024-12-11T17:48:11.580388Z"
    },
    "id": "Niq5FgljtSf2",
    "papermill": {
     "duration": 0.106311,
     "end_time": "2024-12-11T17:48:11.584201",
     "exception": false,
     "start_time": "2024-12-11T17:48:11.477890",
     "status": "completed"
    },
    "tags": []
   },
   "outputs": [],
   "source": [
    "models_df.to_csv(\"Trained_model_metrics.csv\", index=False)"
   ]
  },
  {
   "cell_type": "code",
   "execution_count": null,
   "id": "88deaa05",
   "metadata": {
    "execution": {
     "iopub.execute_input": "2024-12-11T17:48:11.772006Z",
     "iopub.status.busy": "2024-12-11T17:48:11.771465Z",
     "iopub.status.idle": "2024-12-11T17:48:11.819712Z",
     "shell.execute_reply": "2024-12-11T17:48:11.818470Z"
    },
    "id": "ELCoI7NFtbBZ",
    "outputId": "0b1b9e14-78df-4fcb-a78b-ebf0f820a61c",
    "papermill": {
     "duration": 0.147495,
     "end_time": "2024-12-11T17:48:11.822182",
     "exception": false,
     "start_time": "2024-12-11T17:48:11.674687",
     "status": "completed"
    },
    "tags": []
   },
   "outputs": [],
   "source": [
    "models_df.sort_values(by='accuracy', ascending=False)"
   ]
  },
  {
   "cell_type": "markdown",
   "id": "811ebc96",
   "metadata": {
    "id": "uyre06hUIQVb",
    "papermill": {
     "duration": 0.093833,
     "end_time": "2024-12-11T17:48:12.013138",
     "exception": false,
     "start_time": "2024-12-11T17:48:11.919305",
     "status": "completed"
    },
    "tags": []
   },
   "source": [
    "<a id=\"continuous_vs_target\"></a>\n",
    "<div style=\"text-align: center; background: #009688; font-family: 'Trebuchet MS', Arial, sans-serif; color: white; padding: 15px; font-size: 15px; font-weight: bold; border-radius: 10px; margin-bottom: 20px; box-shadow: 0px 4px 6px rgba(0, 0, 0, 0.1);\">\n",
    "    📊 Finding the best model so far according to each metrics </div>"
   ]
  },
  {
   "cell_type": "code",
   "execution_count": null,
   "id": "d4fbe3dc",
   "metadata": {
    "execution": {
     "iopub.execute_input": "2024-12-11T17:48:12.208089Z",
     "iopub.status.busy": "2024-12-11T17:48:12.207626Z",
     "iopub.status.idle": "2024-12-11T17:48:12.215949Z",
     "shell.execute_reply": "2024-12-11T17:48:12.214548Z"
    },
    "id": "MmN5e08rH-7a",
    "outputId": "55291ce8-18c2-4ade-d210-0eea97911b5c",
    "papermill": {
     "duration": 0.108743,
     "end_time": "2024-12-11T17:48:12.218782",
     "exception": false,
     "start_time": "2024-12-11T17:48:12.110039",
     "status": "completed"
    },
    "tags": []
   },
   "outputs": [],
   "source": [
    "metrics_col = models_df.columns.to_list()[2:-1]\n",
    "metrics_col"
   ]
  },
  {
   "cell_type": "code",
   "execution_count": null,
   "id": "b8141623",
   "metadata": {
    "execution": {
     "iopub.execute_input": "2024-12-11T17:48:12.401435Z",
     "iopub.status.busy": "2024-12-11T17:48:12.401045Z",
     "iopub.status.idle": "2024-12-11T17:48:12.475318Z",
     "shell.execute_reply": "2024-12-11T17:48:12.473946Z"
    },
    "id": "SIH4Vj2FHPdM",
    "outputId": "25a3ff12-bba5-4bd1-9521-86751c254a23",
    "papermill": {
     "duration": 0.168712,
     "end_time": "2024-12-11T17:48:12.478419",
     "exception": false,
     "start_time": "2024-12-11T17:48:12.309707",
     "status": "completed"
    },
    "tags": []
   },
   "outputs": [],
   "source": [
    "for metric in metrics_col:\n",
    "    print(f\"Top 3 models by {metric}\")\n",
    "    display(models_df.drop(\"predictions\", axis=1).sort_values(by=metric, ascending=False).head(3))\n",
    "    print(\"-\"*50)"
   ]
  },
  {
   "cell_type": "code",
   "execution_count": null,
   "id": "867fed9f",
   "metadata": {
    "execution": {
     "iopub.execute_input": "2024-12-11T17:48:12.675266Z",
     "iopub.status.busy": "2024-12-11T17:48:12.674794Z",
     "iopub.status.idle": "2024-12-11T17:48:12.686298Z",
     "shell.execute_reply": "2024-12-11T17:48:12.684690Z"
    },
    "id": "PTn9VtjtIrqk",
    "papermill": {
     "duration": 0.112901,
     "end_time": "2024-12-11T17:48:12.689004",
     "exception": false,
     "start_time": "2024-12-11T17:48:12.576103",
     "status": "completed"
    },
    "tags": []
   },
   "outputs": [],
   "source": [
    "models_df.drop(\"predictions\", axis=1).sort_values(by=\"accuracy\", ascending=False).to_csv(\"model_metrics.csv\", index=False)"
   ]
  },
  {
   "cell_type": "markdown",
   "id": "c31da1be",
   "metadata": {
    "id": "Px-L5Dv8gljU",
    "papermill": {
     "duration": 0.093935,
     "end_time": "2024-12-11T17:48:12.879027",
     "exception": false,
     "start_time": "2024-12-11T17:48:12.785092",
     "status": "completed"
    },
    "tags": []
   },
   "source": [
    "<a id=\"11\"></a>\n",
    "<div style=\"text-align: center; background: #22177A; font-family: 'Verdana', sans-serif; color: white; padding: 15px; font-size: 28px; font-weight: bold; line-height: 1.2; border-radius: 10px; margin-bottom: 20px; box-shadow: 0px 4px 8px rgba(0, 0, 0, 0.15);\"> 🧩Model-Submission🧩</div>"
   ]
  },
  {
   "cell_type": "code",
   "execution_count": null,
   "id": "69a1af31",
   "metadata": {
    "execution": {
     "iopub.execute_input": "2024-12-11T17:48:13.067163Z",
     "iopub.status.busy": "2024-12-11T17:48:13.066067Z",
     "iopub.status.idle": "2024-12-11T17:48:13.071709Z",
     "shell.execute_reply": "2024-12-11T17:48:13.070282Z"
    },
    "id": "43A67slvf600",
    "papermill": {
     "duration": 0.102169,
     "end_time": "2024-12-11T17:48:13.074359",
     "exception": false,
     "start_time": "2024-12-11T17:48:12.972190",
     "status": "completed"
    },
    "tags": []
   },
   "outputs": [],
   "source": [
    "import joblib\n",
    "import os"
   ]
  },
  {
   "cell_type": "code",
   "execution_count": null,
   "id": "7947020a",
   "metadata": {},
   "outputs": [],
   "source": [
    "import os\n",
    "import joblib\n",
    "\n",
    "save_dir = 'saved_models'\n",
    "os.makedirs(save_dir, exist_ok=True)\n",
    "\n",
    "joblib.dump(lr, os.path.join(save_dir, 'Logistic Regression.pkl'))\n",
    "joblib.dump(rf, os.path.join(save_dir, 'Random Forest.pkl'))\n",
    "joblib.dump(svc, os.path.join(save_dir, 'Support Vector Machine.pkl'))\n"
   ]
  },
  {
   "cell_type": "code",
   "execution_count": null,
   "id": "f36eee4b",
   "metadata": {},
   "outputs": [],
   "source": [
    "print(type(lr), type(rf), type(svc))\n"
   ]
  },
  {
   "cell_type": "code",
   "execution_count": null,
   "id": "b7cba5d9",
   "metadata": {},
   "outputs": [],
   "source": []
  },
  {
   "cell_type": "code",
   "execution_count": null,
   "id": "d0da6002",
   "metadata": {},
   "outputs": [],
   "source": []
  },
  {
   "cell_type": "code",
   "execution_count": null,
   "id": "74e3475d",
   "metadata": {},
   "outputs": [],
   "source": []
  },
  {
   "cell_type": "code",
   "execution_count": null,
   "id": "1de4ab68",
   "metadata": {},
   "outputs": [],
   "source": []
  },
  {
   "cell_type": "code",
   "execution_count": null,
   "id": "13234af3",
   "metadata": {},
   "outputs": [],
   "source": []
  },
  {
   "cell_type": "code",
   "execution_count": null,
   "id": "179ef782",
   "metadata": {},
   "outputs": [],
   "source": []
  },
  {
   "cell_type": "code",
   "execution_count": null,
   "id": "95d8fd87",
   "metadata": {},
   "outputs": [],
   "source": []
  },
  {
   "cell_type": "code",
   "execution_count": null,
   "id": "79e61961",
   "metadata": {},
   "outputs": [],
   "source": []
  },
  {
   "cell_type": "code",
   "execution_count": null,
   "id": "2db42e3f",
   "metadata": {},
   "outputs": [],
   "source": []
  },
  {
   "cell_type": "code",
   "execution_count": null,
   "id": "a1a0d0d0",
   "metadata": {},
   "outputs": [],
   "source": []
  },
  {
   "cell_type": "code",
   "execution_count": null,
   "id": "6536b0d7",
   "metadata": {},
   "outputs": [],
   "source": []
  },
  {
   "cell_type": "code",
   "execution_count": null,
   "id": "8d66a26c",
   "metadata": {},
   "outputs": [],
   "source": []
  },
  {
   "cell_type": "code",
   "execution_count": null,
   "id": "df70d109",
   "metadata": {},
   "outputs": [],
   "source": []
  },
  {
   "cell_type": "code",
   "execution_count": null,
   "id": "873e3705",
   "metadata": {},
   "outputs": [],
   "source": []
  },
  {
   "cell_type": "code",
   "execution_count": null,
   "id": "5516fbc7",
   "metadata": {},
   "outputs": [],
   "source": []
  },
  {
   "cell_type": "code",
   "execution_count": null,
   "id": "c19e0f59",
   "metadata": {},
   "outputs": [],
   "source": []
  },
  {
   "cell_type": "code",
   "execution_count": null,
   "id": "a1b80b5d",
   "metadata": {},
   "outputs": [],
   "source": []
  },
  {
   "cell_type": "code",
   "execution_count": null,
   "id": "f8fa84e7",
   "metadata": {},
   "outputs": [],
   "source": []
  },
  {
   "cell_type": "code",
   "execution_count": null,
   "id": "82fe9b48",
   "metadata": {},
   "outputs": [],
   "source": []
  },
  {
   "cell_type": "code",
   "execution_count": null,
   "id": "601a91af",
   "metadata": {},
   "outputs": [],
   "source": []
  },
  {
   "cell_type": "code",
   "execution_count": null,
   "id": "e5e2261c",
   "metadata": {},
   "outputs": [],
   "source": []
  },
  {
   "cell_type": "code",
   "execution_count": null,
   "id": "9f260bb1",
   "metadata": {},
   "outputs": [],
   "source": []
  }
 ],
 "metadata": {
  "colab": {
   "provenance": []
  },
  "kaggle": {
   "accelerator": "none",
   "dataSources": [
    {
     "datasetId": 6213868,
     "sourceId": 10079691,
     "sourceType": "datasetVersion"
    }
   ],
   "dockerImageVersionId": 30786,
   "isGpuEnabled": false,
   "isInternetEnabled": true,
   "language": "python",
   "sourceType": "notebook"
  },
  "kernelspec": {
   "display_name": "Python 3 (ipykernel)",
   "language": "python",
   "name": "python3"
  },
  "language_info": {
   "codemirror_mode": {
    "name": "ipython",
    "version": 3
   },
   "file_extension": ".py",
   "mimetype": "text/x-python",
   "name": "python",
   "nbconvert_exporter": "python",
   "pygments_lexer": "ipython3",
   "version": "3.10.9"
  },
  "papermill": {
   "default_parameters": {},
   "duration": 145.950858,
   "end_time": "2024-12-11T17:48:16.459429",
   "environment_variables": {},
   "exception": null,
   "input_path": "__notebook__.ipynb",
   "output_path": "__notebook__.ipynb",
   "parameters": {},
   "start_time": "2024-12-11T17:45:50.508571",
   "version": "2.6.0"
  }
 },
 "nbformat": 4,
 "nbformat_minor": 5
}
